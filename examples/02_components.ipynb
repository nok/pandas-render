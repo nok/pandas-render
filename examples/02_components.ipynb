{
 "cells": [
  {
   "cell_type": "markdown",
   "id": "1e14c544",
   "metadata": {},
   "source": [
    "# pandas-render\n",
    "\n",
    "[pandas-render](https://github.com/nok/pandas-render) is a [pandas](https://github.com/pandas-dev/pandas) extension for rendering DataFrames and Series as HTML tables, with support for custom styling and formatting.\n",
    "\n",
    "Installation:\n",
    "\n",
    "```bash\n",
    "pip install pandas-render\n",
    "```\n",
    "\n",
    "## Components\n",
    "\n",
    "### Import\n",
    "Import pandas with pandas-render explicitly:"
   ]
  },
  {
   "cell_type": "code",
   "execution_count": 1,
   "id": "80a5e0ef",
   "metadata": {
    "execution": {
     "iopub.execute_input": "2025-04-07T00:28:50.181989Z",
     "iopub.status.busy": "2025-04-07T00:28:50.181611Z",
     "iopub.status.idle": "2025-04-07T00:28:50.394798Z",
     "shell.execute_reply": "2025-04-07T00:28:50.394425Z"
    }
   },
   "outputs": [],
   "source": [
    "from pandas_render import pandas as pd"
   ]
  },
  {
   "cell_type": "markdown",
   "id": "e434771e",
   "metadata": {},
   "source": [
    "### Data\n",
    "Create a DataFrame with some sample data. The DataFrame contains information about TV series and movies."
   ]
  },
  {
   "cell_type": "code",
   "execution_count": 2,
   "id": "2654505f",
   "metadata": {
    "execution": {
     "iopub.execute_input": "2025-04-07T00:28:50.396565Z",
     "iopub.status.busy": "2025-04-07T00:28:50.396412Z",
     "iopub.status.idle": "2025-04-07T00:28:50.399396Z",
     "shell.execute_reply": "2025-04-07T00:28:50.399096Z"
    }
   },
   "outputs": [],
   "source": [
    "df = pd.DataFrame(\n",
    "    [\n",
    "        dict(\n",
    "            title=\"Severance\",\n",
    "            id=\"tt11280740\",\n",
    "            year=2022,\n",
    "            image_url=\"https://m.media-amazon.com/images/M/MV5BZDI5YzJhODQtMzQyNy00YWNmLWIxMjUtNDBjNjA5YWRjMzExXkEyXkFqcGc@._V1_QL75_UX380_CR0,4,380,562_.jpg\",\n",
    "            rating=8.7,\n",
    "            actors=[\"Adam Scott\", \"Britt Lower\", \"Zach Cherry\"],\n",
    "        ),\n",
    "        dict(\n",
    "            title=\"Stranger Things\",\n",
    "            id=\"tt4574334\",\n",
    "            year=2016,\n",
    "            image_url=\"https://m.media-amazon.com/images/M/MV5BMjg2NmM0MTEtYWY2Yy00NmFlLTllNTMtMjVkZjEwMGVlNzdjXkEyXkFqcGc@._V1_QL75_UX380_CR0,0,380,562_.jpg\",\n",
    "            rating=8.6,\n",
    "            actors=[\"Millie Bobby Brown\", \"Finn Wolfhard\"],\n",
    "        ),\n",
    "        dict(\n",
    "            title=\"Python\",\n",
    "            id=\"tt0209264\",\n",
    "            year=2000,\n",
    "            image_url=\"https://m.media-amazon.com/images/M/MV5BZWUwNjExYTYtZmM3ZS00NzA1LWJhNjYtMWExNGEwZTVjNDM3XkEyXkFqcGc@._V1_QL75_UY562_CR8,0,380,562_.jpg\",\n",
    "            rating=3.7,\n",
    "            actors=[\"Frayne Rosanoff\"],\n",
    "        ),\n",
    "    ]\n",
    ")"
   ]
  },
  {
   "cell_type": "markdown",
   "id": "6c676d38",
   "metadata": {},
   "source": [
    "### Rendering\n",
    "Just like in the first example, we can render the DataFrame as an HTML table."
   ]
  },
  {
   "cell_type": "code",
   "execution_count": 3,
   "id": "00b04bc3",
   "metadata": {
    "execution": {
     "iopub.execute_input": "2025-04-07T00:28:50.400838Z",
     "iopub.status.busy": "2025-04-07T00:28:50.400735Z",
     "iopub.status.idle": "2025-04-07T00:28:50.409440Z",
     "shell.execute_reply": "2025-04-07T00:28:50.409109Z"
    }
   },
   "outputs": [
    {
     "data": {
      "text/html": [
       "<table class=\"dataframe\" border=\"1\"><thead>\n",
       "        <tr><th>Image</th><th>Title</th><th>Actors</th></tr>\n",
       "    </thead><tbody><tr><td><img src=\"https://m.media-amazon.com/images/M/MV5BZDI5YzJhODQtMzQyNy00YWNmLWIxMjUtNDBjNjA5YWRjMzExXkEyXkFqcGc@._V1_QL75_UX380_CR0,4,380,562_.jpg\" width=\"100\"/></td><td>\n",
       "<p><a href=\"https://www.imdb.com/title/tt11280740\" target=\"_blank\">SEVERANCE</a></p>\n",
       "<p><smaller>Year: 2022</smaller></p>\n",
       "<p><smaller>Rating: <strong>8.7</strong></smaller></p></td><td>\n",
       "\n",
       "    \n",
       "        <p>Adam Scott</p>\n",
       "    \n",
       "        <p>Britt Lower</p>\n",
       "    \n",
       "        <p>Zach Cherry</p>\n",
       "    \n",
       "</td></tr><tr><td><img src=\"https://m.media-amazon.com/images/M/MV5BMjg2NmM0MTEtYWY2Yy00NmFlLTllNTMtMjVkZjEwMGVlNzdjXkEyXkFqcGc@._V1_QL75_UX380_CR0,0,380,562_.jpg\" width=\"100\"/></td><td>\n",
       "<p><a href=\"https://www.imdb.com/title/tt4574334\" target=\"_blank\">STRANGER THINGS</a></p>\n",
       "<p><smaller>Year: 2016</smaller></p>\n",
       "<p><smaller>Rating: <strong>8.6</strong></smaller></p></td><td>\n",
       "\n",
       "    \n",
       "        <p>Millie Bobby Brown</p>\n",
       "    \n",
       "        <p>Finn Wolfhard</p>\n",
       "    \n",
       "</td></tr><tr><td><img src=\"https://m.media-amazon.com/images/M/MV5BZWUwNjExYTYtZmM3ZS00NzA1LWJhNjYtMWExNGEwZTVjNDM3XkEyXkFqcGc@._V1_QL75_UY562_CR8,0,380,562_.jpg\" width=\"100\"/></td><td>\n",
       "<p><a href=\"https://www.imdb.com/title/tt0209264\" target=\"_blank\">PYTHON</a></p>\n",
       "<p><smaller>Year: 2000</smaller></p>\n",
       "<p><smaller>Rating: <strong>3.7</strong></smaller></p></td><td>\n",
       "\n",
       "    \n",
       "        <p>Frayne Rosanoff</p>\n",
       "    \n",
       "</td></tr></tbody>\n",
       "</table>"
      ],
      "text/plain": [
       "<IPython.core.display.HTML object>"
      ]
     },
     "execution_count": 3,
     "metadata": {},
     "output_type": "execute_result"
    }
   ],
   "source": [
    "title_template = \"\"\"\n",
    "<p><a href=\"https://www.imdb.com/title/{{ id }}\" target=\"_blank\">{{ content|upper }}</a></p>\n",
    "<p><smaller>Year: {{ year }}</smaller></p>\n",
    "<p><smaller>Rating: <strong>{{ rating }}</strong></smaller></p>\n",
    "\"\"\"\n",
    "\n",
    "actors_template = \"\"\"\n",
    "{% if content %}\n",
    "    {% for actor in content %}\n",
    "        <p>{{ actor }}</p>\n",
    "    {% endfor %}\n",
    "{% else %}\n",
    "    <p>No actors</p>\n",
    "{% endif %}\n",
    "\"\"\"\n",
    "\n",
    "df.render(\n",
    "    templates=dict(\n",
    "        image_url='<img src=\"{{ content }}\" width=\"100\"/>',\n",
    "        title=title_template,\n",
    "        actors=actors_template,\n",
    "    ),\n",
    "    filter_columns=True,\n",
    "    custom_columns_names=[\"Image\", \"Title\", \"Actors\"],\n",
    ")"
   ]
  },
  {
   "cell_type": "markdown",
   "id": "d1a95065",
   "metadata": {},
   "source": [
    "### Toggle Component\n",
    "The `Toggle` component is a simple toggle switch that can be used to show or hide content. It can be used to create interactive elements in your HTML table. First of all we need to load the `alpinejs` library. This is a JavaScript library that provides the functionality for the toggle component. The `load` function loads the library and makes it available for use in the HTML table."
   ]
  },
  {
   "cell_type": "code",
   "execution_count": 4,
   "id": "8b821744",
   "metadata": {
    "execution": {
     "iopub.execute_input": "2025-04-07T00:28:50.410975Z",
     "iopub.status.busy": "2025-04-07T00:28:50.410868Z",
     "iopub.status.idle": "2025-04-07T00:28:50.413918Z",
     "shell.execute_reply": "2025-04-07T00:28:50.413637Z"
    }
   },
   "outputs": [
    {
     "data": {
      "application/javascript": [
       "var loadScriptSync = function(name, src) {\n",
       "    if (document.querySelector('script[data-pandas-render-library=\"' + name + '\"]')) {\n",
       "        return;\n",
       "    }\n",
       "    var script = document.createElement('script');\n",
       "    script.src = src;\n",
       "    script.type = 'text/javascript';\n",
       "    script.async = false;\n",
       "    script.setAttribute(\"data-pandas-render-library\", name);\n",
       "    document.getElementsByTagName('head')[0].appendChild(script);\n",
       "};loadScriptSync(\"alpinejs\", \"https://unpkg.com/alpinejs\");"
      ],
      "text/plain": [
       "<IPython.core.display.Javascript object>"
      ]
     },
     "execution_count": 4,
     "metadata": {},
     "output_type": "execute_result"
    }
   ],
   "source": [
    "from pandas_render import load\n",
    "\n",
    "load(libraries=\"alpinejs\")"
   ]
  },
  {
   "cell_type": "code",
   "execution_count": 5,
   "id": "9800e548",
   "metadata": {
    "execution": {
     "iopub.execute_input": "2025-04-07T00:28:50.415321Z",
     "iopub.status.busy": "2025-04-07T00:28:50.415195Z",
     "iopub.status.idle": "2025-04-07T00:28:50.421090Z",
     "shell.execute_reply": "2025-04-07T00:28:50.420801Z"
    }
   },
   "outputs": [
    {
     "data": {
      "text/html": [
       "<table class=\"dataframe\" border=\"1\"><thead>\n",
       "        <tr><th>Image</th><th>Title</th><th>Actors</th></tr>\n",
       "    </thead><tbody><tr><td><img src=\"https://m.media-amazon.com/images/M/MV5BZDI5YzJhODQtMzQyNy00YWNmLWIxMjUtNDBjNjA5YWRjMzExXkEyXkFqcGc@._V1_QL75_UX380_CR0,4,380,562_.jpg\" width=\"100\"/></td><td>\n",
       "<p><a href=\"https://www.imdb.com/title/tt11280740\" target=\"_blank\">SEVERANCE</a></p>\n",
       "<p><smaller>Year: 2022</smaller></p>\n",
       "<p><smaller>Rating: <strong>8.7</strong></smaller></p></td><td><div x-data=\"{ open: false }\" style=\"text-align: center;\">\n",
       "    <div x-show=\"open\">\n",
       "        \n",
       "\n",
       "    \n",
       "        <p>Adam Scott</p>\n",
       "    \n",
       "        <p>Britt Lower</p>\n",
       "    \n",
       "        <p>Zach Cherry</p>\n",
       "    \n",
       "\n",
       "\n",
       "    </div>\n",
       "    <button @click=\"open = !open\" x-text=\"open ? 'Hide': 'Show'\"></button>\n",
       "</div></td></tr><tr><td><img src=\"https://m.media-amazon.com/images/M/MV5BMjg2NmM0MTEtYWY2Yy00NmFlLTllNTMtMjVkZjEwMGVlNzdjXkEyXkFqcGc@._V1_QL75_UX380_CR0,0,380,562_.jpg\" width=\"100\"/></td><td>\n",
       "<p><a href=\"https://www.imdb.com/title/tt4574334\" target=\"_blank\">STRANGER THINGS</a></p>\n",
       "<p><smaller>Year: 2016</smaller></p>\n",
       "<p><smaller>Rating: <strong>8.6</strong></smaller></p></td><td><div x-data=\"{ open: false }\" style=\"text-align: center;\">\n",
       "    <div x-show=\"open\">\n",
       "        \n",
       "\n",
       "    \n",
       "        <p>Millie Bobby Brown</p>\n",
       "    \n",
       "        <p>Finn Wolfhard</p>\n",
       "    \n",
       "\n",
       "\n",
       "    </div>\n",
       "    <button @click=\"open = !open\" x-text=\"open ? 'Hide': 'Show'\"></button>\n",
       "</div></td></tr><tr><td><img src=\"https://m.media-amazon.com/images/M/MV5BZWUwNjExYTYtZmM3ZS00NzA1LWJhNjYtMWExNGEwZTVjNDM3XkEyXkFqcGc@._V1_QL75_UY562_CR8,0,380,562_.jpg\" width=\"100\"/></td><td>\n",
       "<p><a href=\"https://www.imdb.com/title/tt0209264\" target=\"_blank\">PYTHON</a></p>\n",
       "<p><smaller>Year: 2000</smaller></p>\n",
       "<p><smaller>Rating: <strong>3.7</strong></smaller></p></td><td><div x-data=\"{ open: false }\" style=\"text-align: center;\">\n",
       "    <div x-show=\"open\">\n",
       "        \n",
       "\n",
       "    \n",
       "        <p>Frayne Rosanoff</p>\n",
       "    \n",
       "\n",
       "\n",
       "    </div>\n",
       "    <button @click=\"open = !open\" x-text=\"open ? 'Hide': 'Show'\"></button>\n",
       "</div></td></tr></tbody>\n",
       "</table>"
      ],
      "text/plain": [
       "<IPython.core.display.HTML object>"
      ]
     },
     "execution_count": 5,
     "metadata": {},
     "output_type": "execute_result"
    }
   ],
   "source": [
    "from pandas_render.components import Toggle\n",
    "\n",
    "df.render(\n",
    "    templates=dict(\n",
    "        image_url='<img src=\"{{ content }}\" width=\"100\"/>',\n",
    "        title=title_template,\n",
    "        actors=Toggle(actors_template),\n",
    "    ),\n",
    "    filter_columns=True,\n",
    "    custom_columns_names=[\"Image\", \"Title\", \"Actors\"],\n",
    ")"
   ]
  }
 ],
 "metadata": {
  "jupytext": {
   "cell_metadata_filter": "-all",
   "main_language": "python",
   "notebook_metadata_filter": "-all"
  },
  "language_info": {
   "codemirror_mode": {
    "name": "ipython",
    "version": 3
   },
   "file_extension": ".py",
   "mimetype": "text/x-python",
   "name": "python",
   "nbconvert_exporter": "python",
   "pygments_lexer": "ipython3",
   "version": "3.9.6"
  }
 },
 "nbformat": 4,
 "nbformat_minor": 5
}
