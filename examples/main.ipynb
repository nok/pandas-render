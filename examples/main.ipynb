{
 "cells": [
  {
   "cell_type": "code",
   "execution_count": 219,
   "id": "67927962",
   "metadata": {},
   "outputs": [
    {
     "name": "stdout",
     "output_type": "stream",
     "text": [
      "The autoreload extension is already loaded. To reload it, use:\n",
      "  %reload_ext autoreload\n"
     ]
    }
   ],
   "source": [
    "%load_ext autoreload"
   ]
  },
  {
   "cell_type": "code",
   "execution_count": 220,
   "id": "ee17c703",
   "metadata": {},
   "outputs": [],
   "source": [
    "%autoreload 2"
   ]
  },
  {
   "cell_type": "code",
   "execution_count": 228,
   "id": "eeb3d684",
   "metadata": {},
   "outputs": [
    {
     "data": {
      "application/javascript": [
       "\n",
       "            var loadScriptSync = function(src, scope) {\n",
       "                if (!scope) {\n",
       "                    var script = document.createElement('script');\n",
       "                    script.src = src;\n",
       "                    script.type = 'text/javascript';\n",
       "                    script.async = false;\n",
       "                    document.getElementsByTagName('head')[0].appendChild(script);\n",
       "                }\n",
       "            };\n",
       "            loadScriptSync(\"https://unpkg.com/alpinejs@3.4.2/dist/cdn.min.js\", window.Alpine);\n",
       "        "
      ],
      "text/plain": [
       "<IPython.core.display.Javascript object>"
      ]
     },
     "execution_count": 228,
     "metadata": {},
     "output_type": "execute_result"
    }
   ],
   "source": [
    "import pandas as pd\n",
    "\n",
    "from pandas_render import init\n",
    "\n",
    "init(backend='alpine')"
   ]
  },
  {
   "cell_type": "markdown",
   "id": "24c4e95c",
   "metadata": {},
   "source": [
    "## Data"
   ]
  },
  {
   "cell_type": "code",
   "execution_count": 229,
   "id": "3aff5918",
   "metadata": {},
   "outputs": [],
   "source": [
    "image_server = 'https://i.otto.de/i/otto/'\n",
    "\n",
    "df = pd.DataFrame([\n",
    "    dict(\n",
    "        name='Prophete Trekkingrad »Entdecker 1000«, 24 Gang Shimano Acera Schaltwerk, Kettenschaltung',\n",
    "        image_uri=image_server + '7001fab4-b443-5592-86eb-a5f577fd3ca4?$responsive_ft2$',\n",
    "        shop_uri='https://www.otto.de/p/prophete-trekkingrad-entdecker-1000-24-gang-shimano-acera-schaltwerk-kettenschaltung-552545616/#variationId=504285549'\n",
    "    ),\n",
    "    dict(\n",
    "        name='HAWK Bikes Trekkingrad »HAWK Trekking Lady Super Deluxe Skye blue«, 8 Gang Shimano Nexus Schaltwerk',\n",
    "        image_uri=image_server + '04051ca3-65ed-5e24-b19f-4d5c40878992?$responsive_ft2$',\n",
    "        shop_uri='https://www.otto.de/p/hawk-bikes-trekkingrad-hawk-trekking-lady-super-deluxe-skye-blue-8-gang-shimano-nexus-schaltwerk-1097307854/#variationId=1097307855'\n",
    "    ),\n",
    "    dict(\n",
    "        name='KS Cycling Trekkingrad »Antero«, 21 Gang Shimano Tourney Schaltwerk, Kettenschaltung',\n",
    "        image_uri=image_server + '09a3d693-f867-529f-ac74-99a9fdd6cf12?$responsive_ft2$',\n",
    "        shop_uri='https://www.otto.de/p/ks-cycling-trekkingrad-antero-21-gang-shimano-tourney-schaltwerk-kettenschaltung-1104527610/#variationId=1104527611'\n",
    "    ),\n",
    "])"
   ]
  },
  {
   "cell_type": "code",
   "execution_count": 230,
   "id": "f007735b",
   "metadata": {},
   "outputs": [
    {
     "data": {
      "text/html": [
       "<div>\n",
       "<style scoped>\n",
       "    .dataframe tbody tr th:only-of-type {\n",
       "        vertical-align: middle;\n",
       "    }\n",
       "\n",
       "    .dataframe tbody tr th {\n",
       "        vertical-align: top;\n",
       "    }\n",
       "\n",
       "    .dataframe thead th {\n",
       "        text-align: right;\n",
       "    }\n",
       "</style>\n",
       "<table border=\"1\" class=\"dataframe\">\n",
       "  <thead>\n",
       "    <tr style=\"text-align: right;\">\n",
       "      <th></th>\n",
       "      <th>name</th>\n",
       "      <th>image_uri</th>\n",
       "      <th>shop_uri</th>\n",
       "    </tr>\n",
       "  </thead>\n",
       "  <tbody>\n",
       "    <tr>\n",
       "      <th>0</th>\n",
       "      <td>Prophete Trekkingrad »Entdecker 1000«, 24 Gang...</td>\n",
       "      <td>https://i.otto.de/i/otto/7001fab4-b443-5592-86...</td>\n",
       "      <td>https://www.otto.de/p/prophete-trekkingrad-ent...</td>\n",
       "    </tr>\n",
       "    <tr>\n",
       "      <th>1</th>\n",
       "      <td>HAWK Bikes Trekkingrad »HAWK Trekking Lady Sup...</td>\n",
       "      <td>https://i.otto.de/i/otto/04051ca3-65ed-5e24-b1...</td>\n",
       "      <td>https://www.otto.de/p/hawk-bikes-trekkingrad-h...</td>\n",
       "    </tr>\n",
       "    <tr>\n",
       "      <th>2</th>\n",
       "      <td>KS Cycling Trekkingrad »Antero«, 21 Gang Shima...</td>\n",
       "      <td>https://i.otto.de/i/otto/09a3d693-f867-529f-ac...</td>\n",
       "      <td>https://www.otto.de/p/ks-cycling-trekkingrad-a...</td>\n",
       "    </tr>\n",
       "  </tbody>\n",
       "</table>\n",
       "</div>"
      ],
      "text/plain": [
       "                                                name  \\\n",
       "0  Prophete Trekkingrad »Entdecker 1000«, 24 Gang...   \n",
       "1  HAWK Bikes Trekkingrad »HAWK Trekking Lady Sup...   \n",
       "2  KS Cycling Trekkingrad »Antero«, 21 Gang Shima...   \n",
       "\n",
       "                                           image_uri  \\\n",
       "0  https://i.otto.de/i/otto/7001fab4-b443-5592-86...   \n",
       "1  https://i.otto.de/i/otto/04051ca3-65ed-5e24-b1...   \n",
       "2  https://i.otto.de/i/otto/09a3d693-f867-529f-ac...   \n",
       "\n",
       "                                            shop_uri  \n",
       "0  https://www.otto.de/p/prophete-trekkingrad-ent...  \n",
       "1  https://www.otto.de/p/hawk-bikes-trekkingrad-h...  \n",
       "2  https://www.otto.de/p/ks-cycling-trekkingrad-a...  "
      ]
     },
     "execution_count": 230,
     "metadata": {},
     "output_type": "execute_result"
    }
   ],
   "source": [
    "df.head()"
   ]
  },
  {
   "cell_type": "markdown",
   "id": "35bbacfe",
   "metadata": {},
   "source": [
    "## Elements"
   ]
  },
  {
   "cell_type": "code",
   "execution_count": 231,
   "id": "e1f68ebd",
   "metadata": {},
   "outputs": [],
   "source": [
    "from pandas_render.elements import Image, Link"
   ]
  },
  {
   "cell_type": "code",
   "execution_count": 232,
   "id": "4a017f54",
   "metadata": {},
   "outputs": [
    {
     "data": {
      "text/html": [
       "\n",
       "<style>\n",
       ".my-image {\n",
       "    border: 1px solid gray;\n",
       "#     max-height: 80px;\n",
       "    max-width: 200px;\n",
       "    width: 200px;\n",
       "}\n",
       "</style>\n"
      ],
      "text/plain": [
       "<IPython.core.display.HTML object>"
      ]
     },
     "metadata": {},
     "output_type": "display_data"
    }
   ],
   "source": [
    "%%html\n",
    "\n",
    "<style>\n",
    ".my-image {\n",
    "    border: 1px solid gray;\n",
    "#     max-height: 80px;\n",
    "    max-width: 200px;\n",
    "    width: 200px;\n",
    "}\n",
    "</style>"
   ]
  },
  {
   "cell_type": "code",
   "execution_count": 233,
   "id": "2e069b4c",
   "metadata": {},
   "outputs": [],
   "source": [
    "myText = '<strong style=\"display: inline-block; width: 200px; text-align: left;\">{{ content }}</strong>'\n",
    "myImage = Image(attribs={'class': 'my-image'})\n",
    "myLink = Link(text='Link', attribs={\n",
    "    'style': ';'.join([\n",
    "        'display: inline-block',\n",
    "        'width: 100px',\n",
    "        'text-align: center'\n",
    "    ])\n",
    "})"
   ]
  },
  {
   "cell_type": "code",
   "execution_count": 234,
   "id": "db4533f0",
   "metadata": {},
   "outputs": [
    {
     "data": {
      "text/html": [
       "\n",
       "    <table class=\"dataframe\" border=\"1\">\n",
       "        <thead>\n",
       "            <tr>\n",
       "                \n",
       "                    <th>name</th>\n",
       "                \n",
       "                    <th>image_uri</th>\n",
       "                \n",
       "                    <th>shop_uri</th>\n",
       "                \n",
       "            </tr>\n",
       "        </thead>\n",
       "        <tbody>\n",
       "            \n",
       "                <tr>\n",
       "                    \n",
       "                        <td><strong style=\"display: inline-block; width: 200px; text-align: left;\">Prophete Trekkingrad »Entdecker 1000«, 24 Gang Shimano Acera Schaltwerk, Kettenschaltung</strong></td>\n",
       "                    \n",
       "                        <td><img alt=\"https://i.otto.de/i/otto/7001fab4-b443-5592-86eb-a5f577fd3ca4?$responsive_ft2$\" class=\"my-image\" src=\"https://i.otto.de/i/otto/7001fab4-b443-5592-86eb-a5f577fd3ca4?$responsive_ft2$\" /></td>\n",
       "                    \n",
       "                        <td><a href=\"https://www.otto.de/p/prophete-trekkingrad-entdecker-1000-24-gang-shimano-acera-schaltwerk-kettenschaltung-552545616/#variationId=504285549\" style=\"display: inline-block;width: 100px;text-align: center\">Link</a></td>\n",
       "                    \n",
       "                </tr>\n",
       "            \n",
       "                <tr>\n",
       "                    \n",
       "                        <td><strong style=\"display: inline-block; width: 200px; text-align: left;\">HAWK Bikes Trekkingrad »HAWK Trekking Lady Super Deluxe Skye blue«, 8 Gang Shimano Nexus Schaltwerk</strong></td>\n",
       "                    \n",
       "                        <td><img alt=\"https://i.otto.de/i/otto/04051ca3-65ed-5e24-b19f-4d5c40878992?$responsive_ft2$\" class=\"my-image\" src=\"https://i.otto.de/i/otto/04051ca3-65ed-5e24-b19f-4d5c40878992?$responsive_ft2$\" /></td>\n",
       "                    \n",
       "                        <td><a href=\"https://www.otto.de/p/hawk-bikes-trekkingrad-hawk-trekking-lady-super-deluxe-skye-blue-8-gang-shimano-nexus-schaltwerk-1097307854/#variationId=1097307855\" style=\"display: inline-block;width: 100px;text-align: center\">Link</a></td>\n",
       "                    \n",
       "                </tr>\n",
       "            \n",
       "                <tr>\n",
       "                    \n",
       "                        <td><strong style=\"display: inline-block; width: 200px; text-align: left;\">KS Cycling Trekkingrad »Antero«, 21 Gang Shimano Tourney Schaltwerk, Kettenschaltung</strong></td>\n",
       "                    \n",
       "                        <td><img alt=\"https://i.otto.de/i/otto/09a3d693-f867-529f-ac74-99a9fdd6cf12?$responsive_ft2$\" class=\"my-image\" src=\"https://i.otto.de/i/otto/09a3d693-f867-529f-ac74-99a9fdd6cf12?$responsive_ft2$\" /></td>\n",
       "                    \n",
       "                        <td><a href=\"https://www.otto.de/p/ks-cycling-trekkingrad-antero-21-gang-shimano-tourney-schaltwerk-kettenschaltung-1104527610/#variationId=1104527611\" style=\"display: inline-block;width: 100px;text-align: center\">Link</a></td>\n",
       "                    \n",
       "                </tr>\n",
       "            \n",
       "        </tbody>\n",
       "    </table>\n",
       "    "
      ],
      "text/plain": [
       "<IPython.core.display.HTML object>"
      ]
     },
     "execution_count": 234,
     "metadata": {},
     "output_type": "execute_result"
    }
   ],
   "source": [
    "df.render(columns=dict(\n",
    "    name=myText,\n",
    "    image_uri=MyImage,\n",
    "    shop_uri=MyLink\n",
    "))"
   ]
  },
  {
   "cell_type": "code",
   "execution_count": 235,
   "id": "b7339fe2",
   "metadata": {},
   "outputs": [
    {
     "data": {
      "text/html": [
       "<table><tr><td><img alt=\"https://i.otto.de/i/otto/7001fab4-b443-5592-86eb-a5f577fd3ca4?$responsive_ft2$\" class=\"my-image\" src=\"https://i.otto.de/i/otto/7001fab4-b443-5592-86eb-a5f577fd3ca4?$responsive_ft2$\" /></td><td><img alt=\"https://i.otto.de/i/otto/04051ca3-65ed-5e24-b19f-4d5c40878992?$responsive_ft2$\" class=\"my-image\" src=\"https://i.otto.de/i/otto/04051ca3-65ed-5e24-b19f-4d5c40878992?$responsive_ft2$\" /></td></tr><tr><td><img alt=\"https://i.otto.de/i/otto/09a3d693-f867-529f-ac74-99a9fdd6cf12?$responsive_ft2$\" class=\"my-image\" src=\"https://i.otto.de/i/otto/09a3d693-f867-529f-ac74-99a9fdd6cf12?$responsive_ft2$\" /></td></tr></table>"
      ],
      "text/plain": [
       "<IPython.core.display.HTML object>"
      ]
     },
     "execution_count": 235,
     "metadata": {},
     "output_type": "execute_result"
    }
   ],
   "source": [
    "df['image_uri'].render(MyImage, size=2)"
   ]
  },
  {
   "cell_type": "markdown",
   "id": "e37a601c",
   "metadata": {},
   "source": [
    "## Templates"
   ]
  },
  {
   "cell_type": "code",
   "execution_count": 236,
   "id": "3f6f9ef5",
   "metadata": {},
   "outputs": [],
   "source": [
    "from pandas_render.make import Template"
   ]
  },
  {
   "cell_type": "code",
   "execution_count": 237,
   "id": "ab1f08b5",
   "metadata": {},
   "outputs": [],
   "source": [
    "myTemplate = Template(\"\"\"\n",
    "<div x-data=\"{ open: false }\" style=\"text-align: center;\">\n",
    "    <div x-show=\"open\">\n",
    "        <img src=\"{{ content }}\" style=\"max-width: 150px;\" />\n",
    "    </div>\n",
    "    <button @click=\"open = !open\" x-text=\"open ? 'Hide': 'Show'\"></button>\n",
    "</div>\n",
    "\"\"\")"
   ]
  },
  {
   "cell_type": "code",
   "execution_count": 238,
   "id": "30f38620",
   "metadata": {},
   "outputs": [
    {
     "data": {
      "text/html": [
       "\n",
       "    <table class=\"dataframe\" border=\"1\">\n",
       "        <thead>\n",
       "            <tr>\n",
       "                \n",
       "                    <th>name</th>\n",
       "                \n",
       "                    <th>image_uri</th>\n",
       "                \n",
       "                    <th>shop_uri</th>\n",
       "                \n",
       "            </tr>\n",
       "        </thead>\n",
       "        <tbody>\n",
       "            \n",
       "                <tr>\n",
       "                    \n",
       "                        <td><strong style=\"display: inline-block; width: 200px; text-align: left;\">Prophete Trekkingrad »Entdecker 1000«, 24 Gang Shimano Acera Schaltwerk, Kettenschaltung</strong></td>\n",
       "                    \n",
       "                        <td>\n",
       "<div x-data=\"{ open: false }\" style=\"text-align: center;\">\n",
       "    <div x-show=\"open\">\n",
       "        <img src=\"https://i.otto.de/i/otto/7001fab4-b443-5592-86eb-a5f577fd3ca4?$responsive_ft2$\" style=\"max-width: 150px;\" />\n",
       "    </div>\n",
       "    <button @click=\"open = !open\" x-text=\"open ? 'Hide': 'Show'\"></button>\n",
       "</div></td>\n",
       "                    \n",
       "                        <td><a href=\"https://www.otto.de/p/prophete-trekkingrad-entdecker-1000-24-gang-shimano-acera-schaltwerk-kettenschaltung-552545616/#variationId=504285549\" style=\"display: inline-block;width: 100px;text-align: center\">Link</a></td>\n",
       "                    \n",
       "                </tr>\n",
       "            \n",
       "                <tr>\n",
       "                    \n",
       "                        <td><strong style=\"display: inline-block; width: 200px; text-align: left;\">HAWK Bikes Trekkingrad »HAWK Trekking Lady Super Deluxe Skye blue«, 8 Gang Shimano Nexus Schaltwerk</strong></td>\n",
       "                    \n",
       "                        <td>\n",
       "<div x-data=\"{ open: false }\" style=\"text-align: center;\">\n",
       "    <div x-show=\"open\">\n",
       "        <img src=\"https://i.otto.de/i/otto/04051ca3-65ed-5e24-b19f-4d5c40878992?$responsive_ft2$\" style=\"max-width: 150px;\" />\n",
       "    </div>\n",
       "    <button @click=\"open = !open\" x-text=\"open ? 'Hide': 'Show'\"></button>\n",
       "</div></td>\n",
       "                    \n",
       "                        <td><a href=\"https://www.otto.de/p/hawk-bikes-trekkingrad-hawk-trekking-lady-super-deluxe-skye-blue-8-gang-shimano-nexus-schaltwerk-1097307854/#variationId=1097307855\" style=\"display: inline-block;width: 100px;text-align: center\">Link</a></td>\n",
       "                    \n",
       "                </tr>\n",
       "            \n",
       "                <tr>\n",
       "                    \n",
       "                        <td><strong style=\"display: inline-block; width: 200px; text-align: left;\">KS Cycling Trekkingrad »Antero«, 21 Gang Shimano Tourney Schaltwerk, Kettenschaltung</strong></td>\n",
       "                    \n",
       "                        <td>\n",
       "<div x-data=\"{ open: false }\" style=\"text-align: center;\">\n",
       "    <div x-show=\"open\">\n",
       "        <img src=\"https://i.otto.de/i/otto/09a3d693-f867-529f-ac74-99a9fdd6cf12?$responsive_ft2$\" style=\"max-width: 150px;\" />\n",
       "    </div>\n",
       "    <button @click=\"open = !open\" x-text=\"open ? 'Hide': 'Show'\"></button>\n",
       "</div></td>\n",
       "                    \n",
       "                        <td><a href=\"https://www.otto.de/p/ks-cycling-trekkingrad-antero-21-gang-shimano-tourney-schaltwerk-kettenschaltung-1104527610/#variationId=1104527611\" style=\"display: inline-block;width: 100px;text-align: center\">Link</a></td>\n",
       "                    \n",
       "                </tr>\n",
       "            \n",
       "        </tbody>\n",
       "    </table>\n",
       "    "
      ],
      "text/plain": [
       "<IPython.core.display.HTML object>"
      ]
     },
     "execution_count": 238,
     "metadata": {},
     "output_type": "execute_result"
    }
   ],
   "source": [
    "df.render(columns=dict(\n",
    "    name=myText,\n",
    "    image_uri=myTemplate,\n",
    "    shop_uri=myLink\n",
    "))"
   ]
  },
  {
   "cell_type": "code",
   "execution_count": 239,
   "id": "8b3318f6",
   "metadata": {},
   "outputs": [],
   "source": [
    "from pandas_render.templates import Toggle"
   ]
  },
  {
   "cell_type": "code",
   "execution_count": 240,
   "id": "6df34942",
   "metadata": {},
   "outputs": [
    {
     "data": {
      "text/html": [
       "\n",
       "    <table class=\"dataframe\" border=\"1\">\n",
       "        <thead>\n",
       "            <tr>\n",
       "                \n",
       "                    <th>name</th>\n",
       "                \n",
       "                    <th>image_uri</th>\n",
       "                \n",
       "                    <th>shop_uri</th>\n",
       "                \n",
       "            </tr>\n",
       "        </thead>\n",
       "        <tbody>\n",
       "            \n",
       "                <tr>\n",
       "                    \n",
       "                        <td><strong style=\"display: inline-block; width: 200px;\">Prophete Trekkingrad »Entdecker 1000«, 24 Gang Shimano Acera Schaltwerk, Kettenschaltung</strong></td>\n",
       "                    \n",
       "                        <td>\n",
       "        <div x-data=\"{ open: true }\" style=\"text-align: center;\">\n",
       "            <div x-show=\"open\">\n",
       "                <img src=\"https://i.otto.de/i/otto/7001fab4-b443-5592-86eb-a5f577fd3ca4?$responsive_ft2$\" style=\"width: 150px;\"/>\n",
       "            </div>\n",
       "            <button @click=\"open = !open\" x-text=\"open ? 'Hide': 'Show'\"></button>\n",
       "        </div>\n",
       "        </td>\n",
       "                    \n",
       "                        <td>\n",
       "        <div x-data=\"{ open: false }\" style=\"text-align: center;\">\n",
       "            <div x-show=\"open\">\n",
       "                <a href=\"https://www.otto.de/p/prophete-trekkingrad-entdecker-1000-24-gang-shimano-acera-schaltwerk-kettenschaltung-552545616/#variationId=504285549\">Link<a/>\n",
       "            </div>\n",
       "            <button @click=\"open = !open\" x-text=\"open ? 'Hide': 'Show'\"></button>\n",
       "        </div>\n",
       "        </td>\n",
       "                    \n",
       "                </tr>\n",
       "            \n",
       "                <tr>\n",
       "                    \n",
       "                        <td><strong style=\"display: inline-block; width: 200px;\">HAWK Bikes Trekkingrad »HAWK Trekking Lady Super Deluxe Skye blue«, 8 Gang Shimano Nexus Schaltwerk</strong></td>\n",
       "                    \n",
       "                        <td>\n",
       "        <div x-data=\"{ open: true }\" style=\"text-align: center;\">\n",
       "            <div x-show=\"open\">\n",
       "                <img src=\"https://i.otto.de/i/otto/04051ca3-65ed-5e24-b19f-4d5c40878992?$responsive_ft2$\" style=\"width: 150px;\"/>\n",
       "            </div>\n",
       "            <button @click=\"open = !open\" x-text=\"open ? 'Hide': 'Show'\"></button>\n",
       "        </div>\n",
       "        </td>\n",
       "                    \n",
       "                        <td>\n",
       "        <div x-data=\"{ open: false }\" style=\"text-align: center;\">\n",
       "            <div x-show=\"open\">\n",
       "                <a href=\"https://www.otto.de/p/hawk-bikes-trekkingrad-hawk-trekking-lady-super-deluxe-skye-blue-8-gang-shimano-nexus-schaltwerk-1097307854/#variationId=1097307855\">Link<a/>\n",
       "            </div>\n",
       "            <button @click=\"open = !open\" x-text=\"open ? 'Hide': 'Show'\"></button>\n",
       "        </div>\n",
       "        </td>\n",
       "                    \n",
       "                </tr>\n",
       "            \n",
       "                <tr>\n",
       "                    \n",
       "                        <td><strong style=\"display: inline-block; width: 200px;\">KS Cycling Trekkingrad »Antero«, 21 Gang Shimano Tourney Schaltwerk, Kettenschaltung</strong></td>\n",
       "                    \n",
       "                        <td>\n",
       "        <div x-data=\"{ open: true }\" style=\"text-align: center;\">\n",
       "            <div x-show=\"open\">\n",
       "                <img src=\"https://i.otto.de/i/otto/09a3d693-f867-529f-ac74-99a9fdd6cf12?$responsive_ft2$\" style=\"width: 150px;\"/>\n",
       "            </div>\n",
       "            <button @click=\"open = !open\" x-text=\"open ? 'Hide': 'Show'\"></button>\n",
       "        </div>\n",
       "        </td>\n",
       "                    \n",
       "                        <td>\n",
       "        <div x-data=\"{ open: false }\" style=\"text-align: center;\">\n",
       "            <div x-show=\"open\">\n",
       "                <a href=\"https://www.otto.de/p/ks-cycling-trekkingrad-antero-21-gang-shimano-tourney-schaltwerk-kettenschaltung-1104527610/#variationId=1104527611\">Link<a/>\n",
       "            </div>\n",
       "            <button @click=\"open = !open\" x-text=\"open ? 'Hide': 'Show'\"></button>\n",
       "        </div>\n",
       "        </td>\n",
       "                    \n",
       "                </tr>\n",
       "            \n",
       "        </tbody>\n",
       "    </table>\n",
       "    "
      ],
      "text/plain": [
       "<IPython.core.display.HTML object>"
      ]
     },
     "execution_count": 240,
     "metadata": {},
     "output_type": "execute_result"
    }
   ],
   "source": [
    "df.render(columns=dict(\n",
    "    name='<strong style=\"display: inline-block; width: 200px;\">{{ content }}</strong>',\n",
    "    image_uri=Toggle('<img src=\"{{ content }}\" style=\"width: 150px;\"/>', is_open=True),\n",
    "    shop_uri=Toggle('<a href=\"{{ content }}\">Link<a/>')\n",
    "))"
   ]
  },
  {
   "cell_type": "code",
   "execution_count": null,
   "id": "5664d592",
   "metadata": {},
   "outputs": [],
   "source": []
  }
 ],
 "metadata": {
  "kernelspec": {
   "display_name": "pandas-render",
   "language": "python",
   "name": "pandas-render"
  },
  "language_info": {
   "codemirror_mode": {
    "name": "ipython",
    "version": 3
   },
   "file_extension": ".py",
   "mimetype": "text/x-python",
   "name": "python",
   "nbconvert_exporter": "python",
   "pygments_lexer": "ipython3",
   "version": "3.6.2"
  }
 },
 "nbformat": 4,
 "nbformat_minor": 5
}
