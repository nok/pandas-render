{
 "cells": [
  {
   "cell_type": "code",
   "execution_count": 29,
   "id": "ed54065f",
   "metadata": {},
   "outputs": [
    {
     "name": "stdout",
     "output_type": "stream",
     "text": [
      "The autoreload extension is already loaded. To reload it, use:\n",
      "  %reload_ext autoreload\n"
     ]
    }
   ],
   "source": [
    "%load_ext autoreload\n",
    "%autoreload 2"
   ]
  },
  {
   "cell_type": "markdown",
   "id": "bc6968a3",
   "metadata": {},
   "source": [
    "## Imports"
   ]
  },
  {
   "cell_type": "code",
   "execution_count": 30,
   "id": "1a826661",
   "metadata": {},
   "outputs": [
    {
     "data": {
      "application/javascript": [
       "var loadScriptSync = function(src, scope) {\n",
       "    if (scope != null && !scope) {\n",
       "        var script = document.createElement('script');\n",
       "        script.src = src;\n",
       "        script.type = 'text/javascript';\n",
       "        script.async = false;\n",
       "        document.getElementsByTagName('head')[0].appendChild(script);\n",
       "    }\n",
       "};loadScriptSync(\"https://unpkg.com/alpinejs\", window.Alpine);"
      ],
      "text/plain": [
       "<IPython.core.display.Javascript object>"
      ]
     },
     "execution_count": 30,
     "metadata": {},
     "output_type": "execute_result"
    }
   ],
   "source": [
    "import pandas as pd\n",
    "\n",
    "from pandas_render import init\n",
    "\n",
    "init(libraries='alpine')"
   ]
  },
  {
   "cell_type": "markdown",
   "id": "fcacac68",
   "metadata": {},
   "source": [
    "## Data"
   ]
  },
  {
   "cell_type": "code",
   "execution_count": 31,
   "id": "56ecbe0d",
   "metadata": {},
   "outputs": [],
   "source": [
    "image_server = 'https://i.otto.de/i/otto/'\n",
    "\n",
    "df = pd.DataFrame([\n",
    "    dict(\n",
    "        name='Prophete Trekkingrad »Entdecker 1000«, 24 Gang Shimano Acera Schaltwerk, Kettenschaltung',\n",
    "        image_uri=image_server + '7001fab4-b443-5592-86eb-a5f577fd3ca4?$responsive_ft2$',\n",
    "        shop_uri='https://www.otto.de/p/prophete-trekkingrad-entdecker-1000-24-gang-shimano-acera-schaltwerk-kettenschaltung-552545616/#variationId=504285549'\n",
    "    ),\n",
    "    dict(\n",
    "        name='HAWK Bikes Trekkingrad »HAWK Trekking Lady Super Deluxe Skye blue«, 8 Gang Shimano Nexus Schaltwerk',\n",
    "        image_uri=image_server + '04051ca3-65ed-5e24-b19f-4d5c40878992?$responsive_ft2$',\n",
    "        shop_uri='https://www.otto.de/p/hawk-bikes-trekkingrad-hawk-trekking-lady-super-deluxe-skye-blue-8-gang-shimano-nexus-schaltwerk-1097307854/#variationId=1097307855'\n",
    "    ),\n",
    "    dict(\n",
    "        name='KS Cycling Trekkingrad »Antero«, 21 Gang Shimano Tourney Schaltwerk, Kettenschaltung',\n",
    "        image_uri=image_server + '09a3d693-f867-529f-ac74-99a9fdd6cf12?$responsive_ft2$',\n",
    "        shop_uri='https://www.otto.de/p/ks-cycling-trekkingrad-antero-21-gang-shimano-tourney-schaltwerk-kettenschaltung-1104527610/#variationId=1104527611'\n",
    "    ),\n",
    "])"
   ]
  },
  {
   "cell_type": "code",
   "execution_count": 32,
   "id": "dea01e77",
   "metadata": {},
   "outputs": [
    {
     "data": {
      "text/html": [
       "<div>\n",
       "<style scoped>\n",
       "    .dataframe tbody tr th:only-of-type {\n",
       "        vertical-align: middle;\n",
       "    }\n",
       "\n",
       "    .dataframe tbody tr th {\n",
       "        vertical-align: top;\n",
       "    }\n",
       "\n",
       "    .dataframe thead th {\n",
       "        text-align: right;\n",
       "    }\n",
       "</style>\n",
       "<table border=\"1\" class=\"dataframe\">\n",
       "  <thead>\n",
       "    <tr style=\"text-align: right;\">\n",
       "      <th></th>\n",
       "      <th>name</th>\n",
       "      <th>image_uri</th>\n",
       "      <th>shop_uri</th>\n",
       "    </tr>\n",
       "  </thead>\n",
       "  <tbody>\n",
       "    <tr>\n",
       "      <th>0</th>\n",
       "      <td>Prophete Trekkingrad »Entdecker 1000«, 24 Gang...</td>\n",
       "      <td>https://i.otto.de/i/otto/7001fab4-b443-5592-86...</td>\n",
       "      <td>https://www.otto.de/p/prophete-trekkingrad-ent...</td>\n",
       "    </tr>\n",
       "    <tr>\n",
       "      <th>1</th>\n",
       "      <td>HAWK Bikes Trekkingrad »HAWK Trekking Lady Sup...</td>\n",
       "      <td>https://i.otto.de/i/otto/04051ca3-65ed-5e24-b1...</td>\n",
       "      <td>https://www.otto.de/p/hawk-bikes-trekkingrad-h...</td>\n",
       "    </tr>\n",
       "    <tr>\n",
       "      <th>2</th>\n",
       "      <td>KS Cycling Trekkingrad »Antero«, 21 Gang Shima...</td>\n",
       "      <td>https://i.otto.de/i/otto/09a3d693-f867-529f-ac...</td>\n",
       "      <td>https://www.otto.de/p/ks-cycling-trekkingrad-a...</td>\n",
       "    </tr>\n",
       "  </tbody>\n",
       "</table>\n",
       "</div>"
      ],
      "text/plain": [
       "                                                name  \\\n",
       "0  Prophete Trekkingrad »Entdecker 1000«, 24 Gang...   \n",
       "1  HAWK Bikes Trekkingrad »HAWK Trekking Lady Sup...   \n",
       "2  KS Cycling Trekkingrad »Antero«, 21 Gang Shima...   \n",
       "\n",
       "                                           image_uri  \\\n",
       "0  https://i.otto.de/i/otto/7001fab4-b443-5592-86...   \n",
       "1  https://i.otto.de/i/otto/04051ca3-65ed-5e24-b1...   \n",
       "2  https://i.otto.de/i/otto/09a3d693-f867-529f-ac...   \n",
       "\n",
       "                                            shop_uri  \n",
       "0  https://www.otto.de/p/prophete-trekkingrad-ent...  \n",
       "1  https://www.otto.de/p/hawk-bikes-trekkingrad-h...  \n",
       "2  https://www.otto.de/p/ks-cycling-trekkingrad-a...  "
      ]
     },
     "execution_count": 32,
     "metadata": {},
     "output_type": "execute_result"
    }
   ],
   "source": [
    "df.head()"
   ]
  },
  {
   "cell_type": "markdown",
   "id": "3e28a40f",
   "metadata": {},
   "source": [
    "## Elements"
   ]
  },
  {
   "cell_type": "code",
   "execution_count": 33,
   "id": "9c9469af",
   "metadata": {},
   "outputs": [],
   "source": [
    "from pandas_render.elements import Image, Link"
   ]
  },
  {
   "cell_type": "code",
   "execution_count": 34,
   "id": "46e01c26",
   "metadata": {},
   "outputs": [
    {
     "data": {
      "text/html": [
       "\n",
       "<style>\n",
       ".my-image {\n",
       "    border: 1px solid gray;\n",
       "    max-width: 200px;\n",
       "    width: 200px;\n",
       "}\n",
       "</style>\n"
      ],
      "text/plain": [
       "<IPython.core.display.HTML object>"
      ]
     },
     "metadata": {},
     "output_type": "display_data"
    }
   ],
   "source": [
    "%%html\n",
    "\n",
    "<style>\n",
    ".my-image {\n",
    "    border: 1px solid gray;\n",
    "    max-width: 200px;\n",
    "    width: 200px;\n",
    "}\n",
    "</style>"
   ]
  },
  {
   "cell_type": "code",
   "execution_count": 35,
   "id": "ac9800f5",
   "metadata": {},
   "outputs": [],
   "source": [
    "myText = '<strong style=\"display: inline-block; width: 200px; text-align: left;\">{{ content }}</strong>'\n",
    "myImage = Image(attribs={'class': 'my-image'})\n",
    "myLink = Link(text='Link', attribs={\n",
    "    'style': ';'.join([\n",
    "        'display: inline-block',\n",
    "        'width: 100px',\n",
    "        'text-align: center'\n",
    "    ])\n",
    "})"
   ]
  },
  {
   "cell_type": "code",
   "execution_count": 36,
   "id": "b4e09cca",
   "metadata": {},
   "outputs": [
    {
     "data": {
      "text/html": [
       "<table class=\"dataframe\" border=\"1\">\n",
       "    <thead>\n",
       "        <tr><th>name</th><th>image_uri</th><th>shop_uri</th></tr>\n",
       "    </thead>\n",
       "    <tbody><tr><td><strong style=\"display: inline-block; width: 200px; text-align: left;\">Prophete Trekkingrad »Entdecker 1000«, 24 Gang Shimano Acera Schaltwerk, Kettenschaltung</strong></td><td><img class=\"my-image\" alt=\"https://i.otto.de/i/otto/7001fab4-b443-5592-86eb-a5f577fd3ca4?$responsive_ft2$\" src=\"https://i.otto.de/i/otto/7001fab4-b443-5592-86eb-a5f577fd3ca4?$responsive_ft2$\" /></td><td><a style=\"display: inline-block;width: 100px;text-align: center\" href=\"https://www.otto.de/p/prophete-trekkingrad-entdecker-1000-24-gang-shimano-acera-schaltwerk-kettenschaltung-552545616/#variationId=504285549\">Link</a></td></tr><tr><td><strong style=\"display: inline-block; width: 200px; text-align: left;\">HAWK Bikes Trekkingrad »HAWK Trekking Lady Super Deluxe Skye blue«, 8 Gang Shimano Nexus Schaltwerk</strong></td><td><img class=\"my-image\" alt=\"https://i.otto.de/i/otto/04051ca3-65ed-5e24-b19f-4d5c40878992?$responsive_ft2$\" src=\"https://i.otto.de/i/otto/04051ca3-65ed-5e24-b19f-4d5c40878992?$responsive_ft2$\" /></td><td><a style=\"display: inline-block;width: 100px;text-align: center\" href=\"https://www.otto.de/p/hawk-bikes-trekkingrad-hawk-trekking-lady-super-deluxe-skye-blue-8-gang-shimano-nexus-schaltwerk-1097307854/#variationId=1097307855\">Link</a></td></tr><tr><td><strong style=\"display: inline-block; width: 200px; text-align: left;\">KS Cycling Trekkingrad »Antero«, 21 Gang Shimano Tourney Schaltwerk, Kettenschaltung</strong></td><td><img class=\"my-image\" alt=\"https://i.otto.de/i/otto/09a3d693-f867-529f-ac74-99a9fdd6cf12?$responsive_ft2$\" src=\"https://i.otto.de/i/otto/09a3d693-f867-529f-ac74-99a9fdd6cf12?$responsive_ft2$\" /></td><td><a style=\"display: inline-block;width: 100px;text-align: center\" href=\"https://www.otto.de/p/ks-cycling-trekkingrad-antero-21-gang-shimano-tourney-schaltwerk-kettenschaltung-1104527610/#variationId=1104527611\">Link</a></td></tr></tbody>\n",
       "</table>"
      ],
      "text/plain": [
       "<IPython.core.display.HTML object>"
      ]
     },
     "execution_count": 36,
     "metadata": {},
     "output_type": "execute_result"
    }
   ],
   "source": [
    "df.render(columns=dict(\n",
    "    name=myText,\n",
    "    image_uri=myImage,\n",
    "    shop_uri=myLink\n",
    "))"
   ]
  },
  {
   "cell_type": "code",
   "execution_count": 37,
   "id": "894d13f8",
   "metadata": {},
   "outputs": [
    {
     "data": {
      "text/html": [
       "<table><tr><td><img class=\"my-image\" alt=\"https://i.otto.de/i/otto/7001fab4-b443-5592-86eb-a5f577fd3ca4?$responsive_ft2$\" src=\"https://i.otto.de/i/otto/7001fab4-b443-5592-86eb-a5f577fd3ca4?$responsive_ft2$\" /></td><td><img class=\"my-image\" alt=\"https://i.otto.de/i/otto/04051ca3-65ed-5e24-b19f-4d5c40878992?$responsive_ft2$\" src=\"https://i.otto.de/i/otto/04051ca3-65ed-5e24-b19f-4d5c40878992?$responsive_ft2$\" /></td></tr><tr><td><img class=\"my-image\" alt=\"https://i.otto.de/i/otto/09a3d693-f867-529f-ac74-99a9fdd6cf12?$responsive_ft2$\" src=\"https://i.otto.de/i/otto/09a3d693-f867-529f-ac74-99a9fdd6cf12?$responsive_ft2$\" /></td></tr></table>"
      ],
      "text/plain": [
       "<IPython.core.display.HTML object>"
      ]
     },
     "execution_count": 37,
     "metadata": {},
     "output_type": "execute_result"
    }
   ],
   "source": [
    "df['image_uri'].render(myImage, n=2)"
   ]
  },
  {
   "cell_type": "markdown",
   "id": "b74e323e",
   "metadata": {},
   "source": [
    "## Templates"
   ]
  },
  {
   "cell_type": "code",
   "execution_count": 38,
   "id": "18d76aef",
   "metadata": {},
   "outputs": [],
   "source": [
    "myTemplate = \"\"\"\n",
    "<div x-data=\"{ open: false }\" style=\"text-align: center;\">\n",
    "    <div x-show=\"open\">\n",
    "        <img src=\"{{ content }}\" style=\"max-width: 150px;\" />\n",
    "    </div>\n",
    "    <button @click=\"open = !open\" x-text=\"open ? 'Hide': 'Show'\"></button>\n",
    "</div>\n",
    "\"\"\""
   ]
  },
  {
   "cell_type": "code",
   "execution_count": 39,
   "id": "e0841b05",
   "metadata": {},
   "outputs": [
    {
     "data": {
      "text/html": [
       "<table class=\"dataframe\" border=\"1\">\n",
       "    <thead>\n",
       "        <tr><th>name</th><th>image_uri</th><th>shop_uri</th></tr>\n",
       "    </thead>\n",
       "    <tbody><tr><td><strong style=\"display: inline-block; width: 200px; text-align: left;\">Prophete Trekkingrad »Entdecker 1000«, 24 Gang Shimano Acera Schaltwerk, Kettenschaltung</strong></td><td>\n",
       "<div x-data=\"{ open: false }\" style=\"text-align: center;\">\n",
       "    <div x-show=\"open\">\n",
       "        <img src=\"https://i.otto.de/i/otto/7001fab4-b443-5592-86eb-a5f577fd3ca4?$responsive_ft2$\" style=\"max-width: 150px;\" />\n",
       "    </div>\n",
       "    <button @click=\"open = !open\" x-text=\"open ? 'Hide': 'Show'\"></button>\n",
       "</div></td><td><a style=\"display: inline-block;width: 100px;text-align: center\" href=\"https://www.otto.de/p/prophete-trekkingrad-entdecker-1000-24-gang-shimano-acera-schaltwerk-kettenschaltung-552545616/#variationId=504285549\">Link</a></td></tr><tr><td><strong style=\"display: inline-block; width: 200px; text-align: left;\">HAWK Bikes Trekkingrad »HAWK Trekking Lady Super Deluxe Skye blue«, 8 Gang Shimano Nexus Schaltwerk</strong></td><td>\n",
       "<div x-data=\"{ open: false }\" style=\"text-align: center;\">\n",
       "    <div x-show=\"open\">\n",
       "        <img src=\"https://i.otto.de/i/otto/04051ca3-65ed-5e24-b19f-4d5c40878992?$responsive_ft2$\" style=\"max-width: 150px;\" />\n",
       "    </div>\n",
       "    <button @click=\"open = !open\" x-text=\"open ? 'Hide': 'Show'\"></button>\n",
       "</div></td><td><a style=\"display: inline-block;width: 100px;text-align: center\" href=\"https://www.otto.de/p/hawk-bikes-trekkingrad-hawk-trekking-lady-super-deluxe-skye-blue-8-gang-shimano-nexus-schaltwerk-1097307854/#variationId=1097307855\">Link</a></td></tr><tr><td><strong style=\"display: inline-block; width: 200px; text-align: left;\">KS Cycling Trekkingrad »Antero«, 21 Gang Shimano Tourney Schaltwerk, Kettenschaltung</strong></td><td>\n",
       "<div x-data=\"{ open: false }\" style=\"text-align: center;\">\n",
       "    <div x-show=\"open\">\n",
       "        <img src=\"https://i.otto.de/i/otto/09a3d693-f867-529f-ac74-99a9fdd6cf12?$responsive_ft2$\" style=\"max-width: 150px;\" />\n",
       "    </div>\n",
       "    <button @click=\"open = !open\" x-text=\"open ? 'Hide': 'Show'\"></button>\n",
       "</div></td><td><a style=\"display: inline-block;width: 100px;text-align: center\" href=\"https://www.otto.de/p/ks-cycling-trekkingrad-antero-21-gang-shimano-tourney-schaltwerk-kettenschaltung-1104527610/#variationId=1104527611\">Link</a></td></tr></tbody>\n",
       "</table>"
      ],
      "text/plain": [
       "<IPython.core.display.HTML object>"
      ]
     },
     "execution_count": 39,
     "metadata": {},
     "output_type": "execute_result"
    }
   ],
   "source": [
    "df.render(columns=dict(\n",
    "    name=myText,\n",
    "    image_uri=myTemplate,\n",
    "    shop_uri=myLink\n",
    "))"
   ]
  },
  {
   "cell_type": "code",
   "execution_count": 40,
   "id": "59354962",
   "metadata": {},
   "outputs": [],
   "source": [
    "from pandas_render.components import Toggle"
   ]
  },
  {
   "cell_type": "code",
   "execution_count": 41,
   "id": "9ec82949",
   "metadata": {},
   "outputs": [
    {
     "data": {
      "text/html": [
       "<table class=\"dataframe\" border=\"1\">\n",
       "    <thead>\n",
       "        <tr><th>name</th><th>image_uri</th><th>shop_uri</th></tr>\n",
       "    </thead>\n",
       "    <tbody><tr><td><strong style=\"display: inline-block; width: 200px;\">Prophete Trekkingrad »Entdecker 1000«, 24 Gang Shimano Acera Schaltwerk, Kettenschaltung</strong></td><td><div x-data=\"{ open: true }\" style=\"text-align: center;\">\n",
       "    <div x-show=\"open\">\n",
       "        <img src=\"https://i.otto.de/i/otto/7001fab4-b443-5592-86eb-a5f577fd3ca4?$responsive_ft2$\" style=\"width: 150px;\"/>\n",
       "    </div>\n",
       "    <button @click=\"open = !open\" x-text=\"open ? 'Hide': 'Show'\"></button>\n",
       "</div></td><td><div x-data=\"{ open: false }\" style=\"text-align: center;\">\n",
       "    <div x-show=\"open\">\n",
       "        <a href=\"https://www.otto.de/p/prophete-trekkingrad-entdecker-1000-24-gang-shimano-acera-schaltwerk-kettenschaltung-552545616/#variationId=504285549\">Link<a/>\n",
       "    </div>\n",
       "    <button @click=\"open = !open\" x-text=\"open ? 'Hide': 'Show'\"></button>\n",
       "</div></td></tr><tr><td><strong style=\"display: inline-block; width: 200px;\">HAWK Bikes Trekkingrad »HAWK Trekking Lady Super Deluxe Skye blue«, 8 Gang Shimano Nexus Schaltwerk</strong></td><td><div x-data=\"{ open: true }\" style=\"text-align: center;\">\n",
       "    <div x-show=\"open\">\n",
       "        <img src=\"https://i.otto.de/i/otto/04051ca3-65ed-5e24-b19f-4d5c40878992?$responsive_ft2$\" style=\"width: 150px;\"/>\n",
       "    </div>\n",
       "    <button @click=\"open = !open\" x-text=\"open ? 'Hide': 'Show'\"></button>\n",
       "</div></td><td><div x-data=\"{ open: false }\" style=\"text-align: center;\">\n",
       "    <div x-show=\"open\">\n",
       "        <a href=\"https://www.otto.de/p/hawk-bikes-trekkingrad-hawk-trekking-lady-super-deluxe-skye-blue-8-gang-shimano-nexus-schaltwerk-1097307854/#variationId=1097307855\">Link<a/>\n",
       "    </div>\n",
       "    <button @click=\"open = !open\" x-text=\"open ? 'Hide': 'Show'\"></button>\n",
       "</div></td></tr><tr><td><strong style=\"display: inline-block; width: 200px;\">KS Cycling Trekkingrad »Antero«, 21 Gang Shimano Tourney Schaltwerk, Kettenschaltung</strong></td><td><div x-data=\"{ open: true }\" style=\"text-align: center;\">\n",
       "    <div x-show=\"open\">\n",
       "        <img src=\"https://i.otto.de/i/otto/09a3d693-f867-529f-ac74-99a9fdd6cf12?$responsive_ft2$\" style=\"width: 150px;\"/>\n",
       "    </div>\n",
       "    <button @click=\"open = !open\" x-text=\"open ? 'Hide': 'Show'\"></button>\n",
       "</div></td><td><div x-data=\"{ open: false }\" style=\"text-align: center;\">\n",
       "    <div x-show=\"open\">\n",
       "        <a href=\"https://www.otto.de/p/ks-cycling-trekkingrad-antero-21-gang-shimano-tourney-schaltwerk-kettenschaltung-1104527610/#variationId=1104527611\">Link<a/>\n",
       "    </div>\n",
       "    <button @click=\"open = !open\" x-text=\"open ? 'Hide': 'Show'\"></button>\n",
       "</div></td></tr></tbody>\n",
       "</table>"
      ],
      "text/plain": [
       "<IPython.core.display.HTML object>"
      ]
     },
     "execution_count": 41,
     "metadata": {},
     "output_type": "execute_result"
    }
   ],
   "source": [
    "df.render(columns=dict(\n",
    "    name='<strong style=\"display: inline-block; width: 200px;\">{{ content }}</strong>',\n",
    "    image_uri=Toggle('<img src=\"{{ content }}\" style=\"width: 150px;\"/>', is_open=True),\n",
    "    shop_uri=Toggle('<a href=\"{{ content }}\">Link<a/>')\n",
    "))"
   ]
  },
  {
   "cell_type": "code",
   "execution_count": null,
   "id": "4096bc53",
   "metadata": {},
   "outputs": [],
   "source": []
  }
 ],
 "metadata": {
  "kernelspec": {
   "display_name": "Python 3 (ipykernel)",
   "language": "python",
   "name": "python3"
  },
  "language_info": {
   "codemirror_mode": {
    "name": "ipython",
    "version": 3
   },
   "file_extension": ".py",
   "mimetype": "text/x-python",
   "name": "python",
   "nbconvert_exporter": "python",
   "pygments_lexer": "ipython3",
   "version": "3.9.6"
  }
 },
 "nbformat": 4,
 "nbformat_minor": 5
}
