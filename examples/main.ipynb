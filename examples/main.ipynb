{
 "cells": [
  {
   "cell_type": "code",
   "execution_count": 1,
   "id": "99024923",
   "metadata": {},
   "outputs": [],
   "source": [
    "%load_ext autoreload"
   ]
  },
  {
   "cell_type": "code",
   "execution_count": 2,
   "id": "fb3e0aa7",
   "metadata": {},
   "outputs": [],
   "source": [
    "%autoreload 2"
   ]
  },
  {
   "cell_type": "code",
   "execution_count": 3,
   "id": "fd46235b",
   "metadata": {},
   "outputs": [
    {
     "data": {
      "application/javascript": [
       "\n",
       "            var loadScriptSync = function(src, scope) {\n",
       "                if (!scope) {\n",
       "                    var script = document.createElement('script');\n",
       "                    script.src = src;\n",
       "                    script.type = 'text/javascript';\n",
       "                    script.async = false;\n",
       "                    document.getElementsByTagName('head')[0].appendChild(script);\n",
       "                }\n",
       "            };\n",
       "            loadScriptSync(\"https://unpkg.com/alpinejs@3.4.2/dist/cdn.min.js\", window.Alpine);\n",
       "        "
      ],
      "text/plain": [
       "<IPython.core.display.Javascript object>"
      ]
     },
     "execution_count": 3,
     "metadata": {},
     "output_type": "execute_result"
    }
   ],
   "source": [
    "import pandas as pd\n",
    "\n",
    "from pandas_render import init\n",
    "\n",
    "init(backend='alpine')"
   ]
  },
  {
   "cell_type": "markdown",
   "id": "07240dfc",
   "metadata": {},
   "source": [
    "## Data"
   ]
  },
  {
   "cell_type": "code",
   "execution_count": 4,
   "id": "ea493079",
   "metadata": {},
   "outputs": [],
   "source": [
    "image_server = 'https://i.otto.de/i/otto/'\n",
    "\n",
    "df = pd.DataFrame([\n",
    "    dict(\n",
    "        name='Prophete Trekkingrad »Entdecker 1000«, 24 Gang Shimano Acera Schaltwerk, Kettenschaltung',\n",
    "        image_uri=image_server + '7001fab4-b443-5592-86eb-a5f577fd3ca4?$responsive_ft2$',\n",
    "        shop_uri='https://www.otto.de/p/prophete-trekkingrad-entdecker-1000-24-gang-shimano-acera-schaltwerk-kettenschaltung-552545616/#variationId=504285549'\n",
    "    ),\n",
    "    dict(\n",
    "        name='HAWK Bikes Trekkingrad »HAWK Trekking Lady Super Deluxe Skye blue«, 8 Gang Shimano Nexus Schaltwerk',\n",
    "        image_uri=image_server + '04051ca3-65ed-5e24-b19f-4d5c40878992?$responsive_ft2$',\n",
    "        shop_uri='https://www.otto.de/p/hawk-bikes-trekkingrad-hawk-trekking-lady-super-deluxe-skye-blue-8-gang-shimano-nexus-schaltwerk-1097307854/#variationId=1097307855'\n",
    "    ),\n",
    "    dict(\n",
    "        name='KS Cycling Trekkingrad »Antero«, 21 Gang Shimano Tourney Schaltwerk, Kettenschaltung',\n",
    "        image_uri=image_server + '09a3d693-f867-529f-ac74-99a9fdd6cf12?$responsive_ft2$',\n",
    "        shop_uri='https://www.otto.de/p/ks-cycling-trekkingrad-antero-21-gang-shimano-tourney-schaltwerk-kettenschaltung-1104527610/#variationId=1104527611'\n",
    "    ),\n",
    "])"
   ]
  },
  {
   "cell_type": "code",
   "execution_count": 5,
   "id": "cba07860",
   "metadata": {},
   "outputs": [
    {
     "data": {
      "text/html": [
       "<div>\n",
       "<style scoped>\n",
       "    .dataframe tbody tr th:only-of-type {\n",
       "        vertical-align: middle;\n",
       "    }\n",
       "\n",
       "    .dataframe tbody tr th {\n",
       "        vertical-align: top;\n",
       "    }\n",
       "\n",
       "    .dataframe thead th {\n",
       "        text-align: right;\n",
       "    }\n",
       "</style>\n",
       "<table border=\"1\" class=\"dataframe\">\n",
       "  <thead>\n",
       "    <tr style=\"text-align: right;\">\n",
       "      <th></th>\n",
       "      <th>name</th>\n",
       "      <th>image_uri</th>\n",
       "      <th>shop_uri</th>\n",
       "    </tr>\n",
       "  </thead>\n",
       "  <tbody>\n",
       "    <tr>\n",
       "      <th>0</th>\n",
       "      <td>Prophete Trekkingrad »Entdecker 1000«, 24 Gang...</td>\n",
       "      <td>https://i.otto.de/i/otto/7001fab4-b443-5592-86...</td>\n",
       "      <td>https://www.otto.de/p/prophete-trekkingrad-ent...</td>\n",
       "    </tr>\n",
       "    <tr>\n",
       "      <th>1</th>\n",
       "      <td>HAWK Bikes Trekkingrad »HAWK Trekking Lady Sup...</td>\n",
       "      <td>https://i.otto.de/i/otto/04051ca3-65ed-5e24-b1...</td>\n",
       "      <td>https://www.otto.de/p/hawk-bikes-trekkingrad-h...</td>\n",
       "    </tr>\n",
       "    <tr>\n",
       "      <th>2</th>\n",
       "      <td>KS Cycling Trekkingrad »Antero«, 21 Gang Shima...</td>\n",
       "      <td>https://i.otto.de/i/otto/09a3d693-f867-529f-ac...</td>\n",
       "      <td>https://www.otto.de/p/ks-cycling-trekkingrad-a...</td>\n",
       "    </tr>\n",
       "  </tbody>\n",
       "</table>\n",
       "</div>"
      ],
      "text/plain": [
       "                                                name  \\\n",
       "0  Prophete Trekkingrad »Entdecker 1000«, 24 Gang...   \n",
       "1  HAWK Bikes Trekkingrad »HAWK Trekking Lady Sup...   \n",
       "2  KS Cycling Trekkingrad »Antero«, 21 Gang Shima...   \n",
       "\n",
       "                                           image_uri  \\\n",
       "0  https://i.otto.de/i/otto/7001fab4-b443-5592-86...   \n",
       "1  https://i.otto.de/i/otto/04051ca3-65ed-5e24-b1...   \n",
       "2  https://i.otto.de/i/otto/09a3d693-f867-529f-ac...   \n",
       "\n",
       "                                            shop_uri  \n",
       "0  https://www.otto.de/p/prophete-trekkingrad-ent...  \n",
       "1  https://www.otto.de/p/hawk-bikes-trekkingrad-h...  \n",
       "2  https://www.otto.de/p/ks-cycling-trekkingrad-a...  "
      ]
     },
     "execution_count": 5,
     "metadata": {},
     "output_type": "execute_result"
    }
   ],
   "source": [
    "df.head()"
   ]
  },
  {
   "cell_type": "markdown",
   "id": "dc0901a9",
   "metadata": {},
   "source": [
    "## Elements"
   ]
  },
  {
   "cell_type": "code",
   "execution_count": 6,
   "id": "527ebd68",
   "metadata": {},
   "outputs": [],
   "source": [
    "from pandas_render.elements import Image, Link"
   ]
  },
  {
   "cell_type": "code",
   "execution_count": 7,
   "id": "e68ddbb6",
   "metadata": {},
   "outputs": [
    {
     "data": {
      "text/html": [
       "\n",
       "<style>\n",
       ".my-image {\n",
       "    border: 1px solid gray;\n",
       "    max-height: 150px;\n",
       "    max-width: 150px;\n",
       "}\n",
       "</style>\n"
      ],
      "text/plain": [
       "<IPython.core.display.HTML object>"
      ]
     },
     "metadata": {},
     "output_type": "display_data"
    }
   ],
   "source": [
    "%%html\n",
    "\n",
    "<style>\n",
    ".my-image {\n",
    "    border: 1px solid gray;\n",
    "    max-height: 150px;\n",
    "    max-width: 150px;\n",
    "}\n",
    "</style>"
   ]
  },
  {
   "cell_type": "code",
   "execution_count": 8,
   "id": "706b6284",
   "metadata": {},
   "outputs": [],
   "source": [
    "MyImage = Image(attribs={'class': 'my-image'})\n",
    "MyLink = Link(attribs={\n",
    "    'style': ';'.join([\n",
    "        'display: inline-block',\n",
    "        'width: 200px'\n",
    "    ])\n",
    "})"
   ]
  },
  {
   "cell_type": "code",
   "execution_count": 9,
   "id": "c47e83c1",
   "metadata": {},
   "outputs": [
    {
     "data": {
      "text/html": [
       "<table border=\"1\" class=\"dataframe\">\n",
       "  <thead>\n",
       "    <tr style=\"text-align: right;\">\n",
       "      <th></th>\n",
       "      <th>name</th>\n",
       "      <th>image_uri</th>\n",
       "      <th>shop_uri</th>\n",
       "    </tr>\n",
       "  </thead>\n",
       "  <tbody>\n",
       "    <tr>\n",
       "      <th>0</th>\n",
       "      <td><strong style=\"display: inline-block; width: 200px;\">Prophete Trekkingrad »Entdecker 1000«, 24 Gang Shimano Acera Schaltwerk, Kettenschaltung</strong></td>\n",
       "      <td><img alt=\"https://i.otto.de/i/otto/7001fab4-b443-5592-86eb-a5f577fd3ca4?$responsive_ft2$\" class=\"my-image\" src=\"https://i.otto.de/i/otto/7001fab4-b443-5592-86eb-a5f577fd3ca4?$responsive_ft2$\" /></td>\n",
       "      <td><a href=\"https://www.otto.de/p/prophete-trekkingrad-entdecker-1000-24-gang-shimano-acera-schaltwerk-kettenschaltung-552545616/#variationId=504285549\" style=\"display: inline-block;width: 200px\">https://www.otto.de/p/prophete-trekkingrad-entdecker-1000-24-gang-shimano-acera-schaltwerk-kettenschaltung-552545616/#variationId=504285549</a></td>\n",
       "    </tr>\n",
       "    <tr>\n",
       "      <th>1</th>\n",
       "      <td><strong style=\"display: inline-block; width: 200px;\">HAWK Bikes Trekkingrad »HAWK Trekking Lady Super Deluxe Skye blue«, 8 Gang Shimano Nexus Schaltwerk</strong></td>\n",
       "      <td><img alt=\"https://i.otto.de/i/otto/04051ca3-65ed-5e24-b19f-4d5c40878992?$responsive_ft2$\" class=\"my-image\" src=\"https://i.otto.de/i/otto/04051ca3-65ed-5e24-b19f-4d5c40878992?$responsive_ft2$\" /></td>\n",
       "      <td><a href=\"https://www.otto.de/p/hawk-bikes-trekkingrad-hawk-trekking-lady-super-deluxe-skye-blue-8-gang-shimano-nexus-schaltwerk-1097307854/#variationId=1097307855\" style=\"display: inline-block;width: 200px\">https://www.otto.de/p/hawk-bikes-trekkingrad-hawk-trekking-lady-super-deluxe-skye-blue-8-gang-shimano-nexus-schaltwerk-1097307854/#variationId=1097307855</a></td>\n",
       "    </tr>\n",
       "    <tr>\n",
       "      <th>2</th>\n",
       "      <td><strong style=\"display: inline-block; width: 200px;\">KS Cycling Trekkingrad »Antero«, 21 Gang Shimano Tourney Schaltwerk, Kettenschaltung</strong></td>\n",
       "      <td><img alt=\"https://i.otto.de/i/otto/09a3d693-f867-529f-ac74-99a9fdd6cf12?$responsive_ft2$\" class=\"my-image\" src=\"https://i.otto.de/i/otto/09a3d693-f867-529f-ac74-99a9fdd6cf12?$responsive_ft2$\" /></td>\n",
       "      <td><a href=\"https://www.otto.de/p/ks-cycling-trekkingrad-antero-21-gang-shimano-tourney-schaltwerk-kettenschaltung-1104527610/#variationId=1104527611\" style=\"display: inline-block;width: 200px\">https://www.otto.de/p/ks-cycling-trekkingrad-antero-21-gang-shimano-tourney-schaltwerk-kettenschaltung-1104527610/#variationId=1104527611</a></td>\n",
       "    </tr>\n",
       "  </tbody>\n",
       "</table>"
      ],
      "text/plain": [
       "<IPython.core.display.HTML object>"
      ]
     },
     "execution_count": 9,
     "metadata": {},
     "output_type": "execute_result"
    }
   ],
   "source": [
    "df.render(columns=dict(\n",
    "    name='<strong style=\"display: inline-block; width: 200px;\">{content}</strong>',\n",
    "    image_uri=MyImage,\n",
    "    shop_uri=MyLink\n",
    "))"
   ]
  },
  {
   "cell_type": "code",
   "execution_count": 10,
   "id": "acf9da2c",
   "metadata": {},
   "outputs": [
    {
     "data": {
      "text/html": [
       "<table><tr><td><img alt=\"https://i.otto.de/i/otto/7001fab4-b443-5592-86eb-a5f577fd3ca4?$responsive_ft2$\" class=\"my-image\" src=\"https://i.otto.de/i/otto/7001fab4-b443-5592-86eb-a5f577fd3ca4?$responsive_ft2$\" /></td><td><img alt=\"https://i.otto.de/i/otto/04051ca3-65ed-5e24-b19f-4d5c40878992?$responsive_ft2$\" class=\"my-image\" src=\"https://i.otto.de/i/otto/04051ca3-65ed-5e24-b19f-4d5c40878992?$responsive_ft2$\" /></td><td><img alt=\"https://i.otto.de/i/otto/09a3d693-f867-529f-ac74-99a9fdd6cf12?$responsive_ft2$\" class=\"my-image\" src=\"https://i.otto.de/i/otto/09a3d693-f867-529f-ac74-99a9fdd6cf12?$responsive_ft2$\" /></td></tr></table>"
      ],
      "text/plain": [
       "<IPython.core.display.HTML object>"
      ]
     },
     "execution_count": 10,
     "metadata": {},
     "output_type": "execute_result"
    }
   ],
   "source": [
    "df['image_uri'].render(MyImage, size=3)"
   ]
  },
  {
   "cell_type": "markdown",
   "id": "e0878bad",
   "metadata": {},
   "source": [
    "## Templates"
   ]
  },
  {
   "cell_type": "code",
   "execution_count": 11,
   "id": "62b8f633",
   "metadata": {},
   "outputs": [],
   "source": [
    "from pandas_render.make import Template"
   ]
  },
  {
   "cell_type": "code",
   "execution_count": 12,
   "id": "2b40a18c",
   "metadata": {},
   "outputs": [],
   "source": [
    "MyTemplate = Template(\"\"\"\n",
    "<div x-data=\"{{ open: false }}\" style=\"text-align: center;\">\n",
    "    <div x-show=\"open\">\n",
    "        <img src=\"{content}\" />\n",
    "    </div>\n",
    "    <button @click=\"open = !open\" x-text=\"open ? 'Hide': 'Show'\"></button>\n",
    "</div>\n",
    "\"\"\")"
   ]
  },
  {
   "cell_type": "code",
   "execution_count": 13,
   "id": "6ded68c4",
   "metadata": {},
   "outputs": [
    {
     "data": {
      "text/html": [
       "<table border=\"1\" class=\"dataframe\">\n",
       "  <thead>\n",
       "    <tr style=\"text-align: right;\">\n",
       "      <th></th>\n",
       "      <th>name</th>\n",
       "      <th>image_uri</th>\n",
       "      <th>shop_uri</th>\n",
       "    </tr>\n",
       "  </thead>\n",
       "  <tbody>\n",
       "    <tr>\n",
       "      <th>0</th>\n",
       "      <td><strong style=\"display: inline-block; width: 200px;\">Prophete Trekkingrad »Entdecker 1000«, 24 Gang Shimano Acera Schaltwerk, Kettenschaltung</strong></td>\n",
       "      <td><div x-data=\"{ open: false }\" style=\"text-align: center;\">\n",
       "    <div x-show=\"open\">\n",
       "        <img src=\"https://i.otto.de/i/otto/7001fab4-b443-5592-86eb-a5f577fd3ca4?$responsive_ft2$\" />\n",
       "    </div>\n",
       "    <button @click=\"open = !open\" x-text=\"open ? 'Hide': 'Show'\"></button>\n",
       "</div></td>\n",
       "      <td><a href=\"https://www.otto.de/p/prophete-trekkingrad-entdecker-1000-24-gang-shimano-acera-schaltwerk-kettenschaltung-552545616/#variationId=504285549\" style=\"display: inline-block;width: 200px\">https://www.otto.de/p/prophete-trekkingrad-entdecker-1000-24-gang-shimano-acera-schaltwerk-kettenschaltung-552545616/#variationId=504285549</a></td>\n",
       "    </tr>\n",
       "    <tr>\n",
       "      <th>1</th>\n",
       "      <td><strong style=\"display: inline-block; width: 200px;\">HAWK Bikes Trekkingrad »HAWK Trekking Lady Super Deluxe Skye blue«, 8 Gang Shimano Nexus Schaltwerk</strong></td>\n",
       "      <td><div x-data=\"{ open: false }\" style=\"text-align: center;\">\n",
       "    <div x-show=\"open\">\n",
       "        <img src=\"https://i.otto.de/i/otto/04051ca3-65ed-5e24-b19f-4d5c40878992?$responsive_ft2$\" />\n",
       "    </div>\n",
       "    <button @click=\"open = !open\" x-text=\"open ? 'Hide': 'Show'\"></button>\n",
       "</div></td>\n",
       "      <td><a href=\"https://www.otto.de/p/hawk-bikes-trekkingrad-hawk-trekking-lady-super-deluxe-skye-blue-8-gang-shimano-nexus-schaltwerk-1097307854/#variationId=1097307855\" style=\"display: inline-block;width: 200px\">https://www.otto.de/p/hawk-bikes-trekkingrad-hawk-trekking-lady-super-deluxe-skye-blue-8-gang-shimano-nexus-schaltwerk-1097307854/#variationId=1097307855</a></td>\n",
       "    </tr>\n",
       "    <tr>\n",
       "      <th>2</th>\n",
       "      <td><strong style=\"display: inline-block; width: 200px;\">KS Cycling Trekkingrad »Antero«, 21 Gang Shimano Tourney Schaltwerk, Kettenschaltung</strong></td>\n",
       "      <td><div x-data=\"{ open: false }\" style=\"text-align: center;\">\n",
       "    <div x-show=\"open\">\n",
       "        <img src=\"https://i.otto.de/i/otto/09a3d693-f867-529f-ac74-99a9fdd6cf12?$responsive_ft2$\" />\n",
       "    </div>\n",
       "    <button @click=\"open = !open\" x-text=\"open ? 'Hide': 'Show'\"></button>\n",
       "</div></td>\n",
       "      <td><a href=\"https://www.otto.de/p/ks-cycling-trekkingrad-antero-21-gang-shimano-tourney-schaltwerk-kettenschaltung-1104527610/#variationId=1104527611\" style=\"display: inline-block;width: 200px\">https://www.otto.de/p/ks-cycling-trekkingrad-antero-21-gang-shimano-tourney-schaltwerk-kettenschaltung-1104527610/#variationId=1104527611</a></td>\n",
       "    </tr>\n",
       "  </tbody>\n",
       "</table>"
      ],
      "text/plain": [
       "<IPython.core.display.HTML object>"
      ]
     },
     "execution_count": 13,
     "metadata": {},
     "output_type": "execute_result"
    }
   ],
   "source": [
    "df.render(columns=dict(\n",
    "    name='<strong style=\"display: inline-block; width: 200px;\">{content}</strong>',\n",
    "    image_uri=MyTemplate,\n",
    "    shop_uri=MyLink\n",
    "))"
   ]
  },
  {
   "cell_type": "code",
   "execution_count": 14,
   "id": "c923f446",
   "metadata": {},
   "outputs": [],
   "source": [
    "from pandas_render.templates import Toggle"
   ]
  },
  {
   "cell_type": "code",
   "execution_count": 15,
   "id": "98edbb93",
   "metadata": {},
   "outputs": [
    {
     "data": {
      "text/html": [
       "<table border=\"1\" class=\"dataframe\">\n",
       "  <thead>\n",
       "    <tr style=\"text-align: right;\">\n",
       "      <th></th>\n",
       "      <th>name</th>\n",
       "      <th>image_uri</th>\n",
       "      <th>shop_uri</th>\n",
       "    </tr>\n",
       "  </thead>\n",
       "  <tbody>\n",
       "    <tr>\n",
       "      <th>0</th>\n",
       "      <td><strong style=\"display: inline-block; width: 200px;\">Prophete Trekkingrad »Entdecker 1000«, 24 Gang Shimano Acera Schaltwerk, Kettenschaltung</strong></td>\n",
       "      <td><div x-data=\"{ open: false }\" style=\"text-align: center;\">\n",
       "            <div x-show=\"open\">\n",
       "                <img src=\"https://i.otto.de/i/otto/7001fab4-b443-5592-86eb-a5f577fd3ca4?$responsive_ft2$\"/>\n",
       "            </div>\n",
       "            <button @click=\"open = !open\" x-text=\"open ? 'Hide': 'Show'\"></button>\n",
       "        </div></td>\n",
       "      <td><div x-data=\"{ open: false }\" style=\"text-align: center;\">\n",
       "            <div x-show=\"open\">\n",
       "                https://www.otto.de/p/prophete-trekkingrad-entdecker-1000-24-gang-shimano-acera-schaltwerk-kettenschaltung-552545616/#variationId=504285549\n",
       "            </div>\n",
       "            <button @click=\"open = !open\" x-text=\"open ? 'Hide': 'Show'\"></button>\n",
       "        </div></td>\n",
       "    </tr>\n",
       "    <tr>\n",
       "      <th>1</th>\n",
       "      <td><strong style=\"display: inline-block; width: 200px;\">HAWK Bikes Trekkingrad »HAWK Trekking Lady Super Deluxe Skye blue«, 8 Gang Shimano Nexus Schaltwerk</strong></td>\n",
       "      <td><div x-data=\"{ open: false }\" style=\"text-align: center;\">\n",
       "            <div x-show=\"open\">\n",
       "                <img src=\"https://i.otto.de/i/otto/04051ca3-65ed-5e24-b19f-4d5c40878992?$responsive_ft2$\"/>\n",
       "            </div>\n",
       "            <button @click=\"open = !open\" x-text=\"open ? 'Hide': 'Show'\"></button>\n",
       "        </div></td>\n",
       "      <td><div x-data=\"{ open: false }\" style=\"text-align: center;\">\n",
       "            <div x-show=\"open\">\n",
       "                https://www.otto.de/p/hawk-bikes-trekkingrad-hawk-trekking-lady-super-deluxe-skye-blue-8-gang-shimano-nexus-schaltwerk-1097307854/#variationId=1097307855\n",
       "            </div>\n",
       "            <button @click=\"open = !open\" x-text=\"open ? 'Hide': 'Show'\"></button>\n",
       "        </div></td>\n",
       "    </tr>\n",
       "    <tr>\n",
       "      <th>2</th>\n",
       "      <td><strong style=\"display: inline-block; width: 200px;\">KS Cycling Trekkingrad »Antero«, 21 Gang Shimano Tourney Schaltwerk, Kettenschaltung</strong></td>\n",
       "      <td><div x-data=\"{ open: false }\" style=\"text-align: center;\">\n",
       "            <div x-show=\"open\">\n",
       "                <img src=\"https://i.otto.de/i/otto/09a3d693-f867-529f-ac74-99a9fdd6cf12?$responsive_ft2$\"/>\n",
       "            </div>\n",
       "            <button @click=\"open = !open\" x-text=\"open ? 'Hide': 'Show'\"></button>\n",
       "        </div></td>\n",
       "      <td><div x-data=\"{ open: false }\" style=\"text-align: center;\">\n",
       "            <div x-show=\"open\">\n",
       "                https://www.otto.de/p/ks-cycling-trekkingrad-antero-21-gang-shimano-tourney-schaltwerk-kettenschaltung-1104527610/#variationId=1104527611\n",
       "            </div>\n",
       "            <button @click=\"open = !open\" x-text=\"open ? 'Hide': 'Show'\"></button>\n",
       "        </div></td>\n",
       "    </tr>\n",
       "  </tbody>\n",
       "</table>"
      ],
      "text/plain": [
       "<IPython.core.display.HTML object>"
      ]
     },
     "execution_count": 15,
     "metadata": {},
     "output_type": "execute_result"
    }
   ],
   "source": [
    "df.render(columns=dict(\n",
    "    name='<strong style=\"display: inline-block; width: 200px;\">{content}</strong>',\n",
    "    image_uri=Toggle('<img src=\"{content}\"/>'),\n",
    "    shop_uri=Toggle('{content}')\n",
    "))"
   ]
  },
  {
   "cell_type": "code",
   "execution_count": null,
   "id": "4dfd02d6",
   "metadata": {},
   "outputs": [],
   "source": []
  }
 ],
 "metadata": {
  "kernelspec": {
   "display_name": "Python 3",
   "language": "python",
   "name": "python3"
  },
  "language_info": {
   "codemirror_mode": {
    "name": "ipython",
    "version": 3
   },
   "file_extension": ".py",
   "mimetype": "text/x-python",
   "name": "python",
   "nbconvert_exporter": "python",
   "pygments_lexer": "ipython3",
   "version": "3.6.2"
  }
 },
 "nbformat": 4,
 "nbformat_minor": 5
}
