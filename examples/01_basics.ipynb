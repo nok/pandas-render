{
 "cells": [
  {
   "cell_type": "markdown",
   "id": "94698bc4",
   "metadata": {},
   "source": [
    "# pandas-render\n",
    "\n",
    "[pandas-render](https://github.com/nok/pandas-render) is a [pandas](https://github.com/pandas-dev/pandas) extension for rendering DataFrames and Series as HTML tables, with support for custom styling and formatting.\n",
    "\n",
    "Installation:\n",
    "\n",
    "```bash\n",
    "pip install pandas-render\n",
    "```\n",
    "\n",
    "## Basics\n",
    "\n",
    "This example shows how to use pandas-render to create a simple HTML table from a pandas DataFrame. It demonstrates how to use Jinja2 templates to format the content of each cell, and how to create links and images in the table.\n",
    "\n",
    "### Import\n",
    "Either import pandas with pandas-render explicitly:"
   ]
  },
  {
   "cell_type": "code",
   "execution_count": 1,
   "id": "05ae08c0",
   "metadata": {
    "execution": {
     "iopub.execute_input": "2025-04-06T22:55:16.923971Z",
     "iopub.status.busy": "2025-04-06T22:55:16.923402Z",
     "iopub.status.idle": "2025-04-06T22:55:17.111099Z",
     "shell.execute_reply": "2025-04-06T22:55:17.110643Z"
    }
   },
   "outputs": [],
   "source": [
    "from pandas_render import pandas as pd"
   ]
  },
  {
   "cell_type": "markdown",
   "id": "0561ac51",
   "metadata": {},
   "source": [
    "Or import it implicitly after importing pandas:\n",
    "\n",
    "```python\n",
    "import pandas as pd\n",
    "import pandas_render  # noqa\n",
    "```"
   ]
  },
  {
   "cell_type": "markdown",
   "id": "6984e86a",
   "metadata": {},
   "source": [
    "### Data\n",
    "Create a DataFrame with some sample data. The DataFrame contains information about TV series and movies."
   ]
  },
  {
   "cell_type": "code",
   "execution_count": 2,
   "id": "62addd69",
   "metadata": {
    "execution": {
     "iopub.execute_input": "2025-04-06T22:55:17.113067Z",
     "iopub.status.busy": "2025-04-06T22:55:17.112903Z",
     "iopub.status.idle": "2025-04-06T22:55:17.116168Z",
     "shell.execute_reply": "2025-04-06T22:55:17.115783Z"
    }
   },
   "outputs": [],
   "source": [
    "df = pd.DataFrame(\n",
    "    [\n",
    "        dict(\n",
    "            title=\"Severance\",\n",
    "            id=\"tt11280740\",\n",
    "            year=2022,\n",
    "            image_url=\"https://m.media-amazon.com/images/M/MV5BZDI5YzJhODQtMzQyNy00YWNmLWIxMjUtNDBjNjA5YWRjMzExXkEyXkFqcGc@._V1_QL75_UX380_CR0,4,380,562_.jpg\",\n",
    "            rating=8.7,\n",
    "            actors=[\"Adam Scott\", \"Britt Lower\", \"Zach Cherry\"],\n",
    "        ),\n",
    "        dict(\n",
    "            title=\"Stranger Things\",\n",
    "            id=\"tt4574334\",\n",
    "            year=2016,\n",
    "            image_url=\"https://m.media-amazon.com/images/M/MV5BMjg2NmM0MTEtYWY2Yy00NmFlLTllNTMtMjVkZjEwMGVlNzdjXkEyXkFqcGc@._V1_QL75_UX380_CR0,0,380,562_.jpg\",\n",
    "            rating=8.6,\n",
    "            actors=[\"Millie Bobby Brown\", \"Finn Wolfhard\"],\n",
    "        ),\n",
    "        dict(\n",
    "            title=\"Python\",\n",
    "            id=\"tt0209264\",\n",
    "            year=2000,\n",
    "            image_url=\"https://m.media-amazon.com/images/M/MV5BZWUwNjExYTYtZmM3ZS00NzA1LWJhNjYtMWExNGEwZTVjNDM3XkEyXkFqcGc@._V1_QL75_UY562_CR8,0,380,562_.jpg\",\n",
    "            rating=3.7,\n",
    "            actors=[\"Frayne Rosanoff\"],\n",
    "        ),\n",
    "    ]\n",
    ")"
   ]
  },
  {
   "cell_type": "markdown",
   "id": "e72b53a1",
   "metadata": {},
   "source": [
    "Here is the original rendering of the DataFrame. It's a simple table with no formatting or styling. It's not very readable, and the data is not very visually appealing."
   ]
  },
  {
   "cell_type": "code",
   "execution_count": 3,
   "id": "64335226",
   "metadata": {
    "execution": {
     "iopub.execute_input": "2025-04-06T22:55:17.117470Z",
     "iopub.status.busy": "2025-04-06T22:55:17.117377Z",
     "iopub.status.idle": "2025-04-06T22:55:17.123843Z",
     "shell.execute_reply": "2025-04-06T22:55:17.123564Z"
    }
   },
   "outputs": [
    {
     "data": {
      "text/html": [
       "<div>\n",
       "<style scoped>\n",
       "    .dataframe tbody tr th:only-of-type {\n",
       "        vertical-align: middle;\n",
       "    }\n",
       "\n",
       "    .dataframe tbody tr th {\n",
       "        vertical-align: top;\n",
       "    }\n",
       "\n",
       "    .dataframe thead th {\n",
       "        text-align: right;\n",
       "    }\n",
       "</style>\n",
       "<table border=\"1\" class=\"dataframe\">\n",
       "  <thead>\n",
       "    <tr style=\"text-align: right;\">\n",
       "      <th></th>\n",
       "      <th>title</th>\n",
       "      <th>id</th>\n",
       "      <th>year</th>\n",
       "      <th>image_url</th>\n",
       "      <th>rating</th>\n",
       "      <th>actors</th>\n",
       "    </tr>\n",
       "  </thead>\n",
       "  <tbody>\n",
       "    <tr>\n",
       "      <th>0</th>\n",
       "      <td>Severance</td>\n",
       "      <td>tt11280740</td>\n",
       "      <td>2022</td>\n",
       "      <td>https://m.media-amazon.com/images/M/MV5BZDI5Yz...</td>\n",
       "      <td>8.7</td>\n",
       "      <td>[Adam Scott, Britt Lower, Zach Cherry]</td>\n",
       "    </tr>\n",
       "    <tr>\n",
       "      <th>1</th>\n",
       "      <td>Stranger Things</td>\n",
       "      <td>tt4574334</td>\n",
       "      <td>2016</td>\n",
       "      <td>https://m.media-amazon.com/images/M/MV5BMjg2Nm...</td>\n",
       "      <td>8.6</td>\n",
       "      <td>[Millie Bobby Brown, Finn Wolfhard]</td>\n",
       "    </tr>\n",
       "    <tr>\n",
       "      <th>2</th>\n",
       "      <td>Python</td>\n",
       "      <td>tt0209264</td>\n",
       "      <td>2000</td>\n",
       "      <td>https://m.media-amazon.com/images/M/MV5BZWUwNj...</td>\n",
       "      <td>3.7</td>\n",
       "      <td>[Frayne Rosanoff]</td>\n",
       "    </tr>\n",
       "  </tbody>\n",
       "</table>\n",
       "</div>"
      ],
      "text/plain": [
       "             title          id  year  \\\n",
       "0        Severance  tt11280740  2022   \n",
       "1  Stranger Things   tt4574334  2016   \n",
       "2           Python   tt0209264  2000   \n",
       "\n",
       "                                           image_url  rating  \\\n",
       "0  https://m.media-amazon.com/images/M/MV5BZDI5Yz...     8.7   \n",
       "1  https://m.media-amazon.com/images/M/MV5BMjg2Nm...     8.6   \n",
       "2  https://m.media-amazon.com/images/M/MV5BZWUwNj...     3.7   \n",
       "\n",
       "                                   actors  \n",
       "0  [Adam Scott, Britt Lower, Zach Cherry]  \n",
       "1     [Millie Bobby Brown, Finn Wolfhard]  \n",
       "2                       [Frayne Rosanoff]  "
      ]
     },
     "execution_count": 3,
     "metadata": {},
     "output_type": "execute_result"
    }
   ],
   "source": [
    "df.head()"
   ]
  },
  {
   "cell_type": "markdown",
   "id": "ad0e41af",
   "metadata": {},
   "source": [
    "### Rendering\n",
    "Now we can use `render` to create a more visually appealing table. The `render` method takes a dictionary of column names and their corresponding templates. Use the placeholder `{{ content }}` to access the content of each cell. Each value is a [Jinja2](https://github.com/pallets/jinja) template with all features (e.g. filters) to format the content."
   ]
  },
  {
   "cell_type": "code",
   "execution_count": 4,
   "id": "b7ce92f2",
   "metadata": {
    "execution": {
     "iopub.execute_input": "2025-04-06T22:55:17.125135Z",
     "iopub.status.busy": "2025-04-06T22:55:17.125047Z",
     "iopub.status.idle": "2025-04-06T22:55:17.131135Z",
     "shell.execute_reply": "2025-04-06T22:55:17.130873Z"
    }
   },
   "outputs": [
    {
     "data": {
      "text/html": [
       "<table class=\"dataframe\" border=\"1\"><thead>\n",
       "        <tr><th>title</th><th>id</th><th>year</th><th>image_url</th><th>rating</th><th>actors</th></tr>\n",
       "    </thead><tbody><tr><td>SEVERANCE</td><td><a href=\"https://www.imdb.com/title/tt11280740\" target=\"_blank\">Link</a></td><td>2022</td><td><img src=\"https://m.media-amazon.com/images/M/MV5BZDI5YzJhODQtMzQyNy00YWNmLWIxMjUtNDBjNjA5YWRjMzExXkEyXkFqcGc@._V1_QL75_UX380_CR0,4,380,562_.jpg\" width=\"100\"/></td><td><strong>8.7</strong></td><td><em>Adam Scott, Britt Lower, Zach Cherry</em></td></tr><tr><td>STRANGER THINGS</td><td><a href=\"https://www.imdb.com/title/tt4574334\" target=\"_blank\">Link</a></td><td>2016</td><td><img src=\"https://m.media-amazon.com/images/M/MV5BMjg2NmM0MTEtYWY2Yy00NmFlLTllNTMtMjVkZjEwMGVlNzdjXkEyXkFqcGc@._V1_QL75_UX380_CR0,0,380,562_.jpg\" width=\"100\"/></td><td><strong>8.6</strong></td><td><em>Millie Bobby Brown, Finn Wolfhard</em></td></tr><tr><td>PYTHON</td><td><a href=\"https://www.imdb.com/title/tt0209264\" target=\"_blank\">Link</a></td><td>2000</td><td><img src=\"https://m.media-amazon.com/images/M/MV5BZWUwNjExYTYtZmM3ZS00NzA1LWJhNjYtMWExNGEwZTVjNDM3XkEyXkFqcGc@._V1_QL75_UY562_CR8,0,380,562_.jpg\" width=\"100\"/></td><td><strong>3.7</strong></td><td><em>Frayne Rosanoff</em></td></tr></tbody>\n",
       "</table>"
      ],
      "text/plain": [
       "<IPython.core.display.HTML object>"
      ]
     },
     "execution_count": 4,
     "metadata": {},
     "output_type": "execute_result"
    }
   ],
   "source": [
    "df.render(\n",
    "    templates=dict(\n",
    "        title=\"{{ content|upper }}\",\n",
    "        id='<a href=\"https://www.imdb.com/title/{{ content }}\" target=\"_blank\">Link</a>',\n",
    "        image_url='<img src=\"{{ content }}\" width=\"100\"/>',\n",
    "        rating=\"<strong>{{ content }}</strong>\",\n",
    "        actors=\"<em>{{ content|join(', ') }}</em>\",\n",
    "    ),\n",
    ")"
   ]
  },
  {
   "cell_type": "markdown",
   "id": "69b9ac9a",
   "metadata": {},
   "source": [
    "### Filtering and Ordering\n",
    "You can also filter the columns to be rendered. By default, all columns are rendered. To filter the columns, set `filter_columns=True`. This will only render the columns that are specified in the `columns` dictionary. In addition to filtering, you can also order the columns. The order of the columns in the `columns` dictionary will be used to determine the order of the columns in the rendered table."
   ]
  },
  {
   "cell_type": "code",
   "execution_count": 5,
   "id": "c8ff6da3",
   "metadata": {
    "execution": {
     "iopub.execute_input": "2025-04-06T22:55:17.132568Z",
     "iopub.status.busy": "2025-04-06T22:55:17.132476Z",
     "iopub.status.idle": "2025-04-06T22:55:17.136956Z",
     "shell.execute_reply": "2025-04-06T22:55:17.136692Z"
    },
    "lines_to_next_cell": 2
   },
   "outputs": [
    {
     "data": {
      "text/html": [
       "<table class=\"dataframe\" border=\"1\"><thead>\n",
       "        <tr><th>image_url</th><th>title</th></tr>\n",
       "    </thead><tbody><tr><td><img src=\"https://m.media-amazon.com/images/M/MV5BZDI5YzJhODQtMzQyNy00YWNmLWIxMjUtNDBjNjA5YWRjMzExXkEyXkFqcGc@._V1_QL75_UX380_CR0,4,380,562_.jpg\" width=\"100\"/></td><td>SEVERANCE</td></tr><tr><td><img src=\"https://m.media-amazon.com/images/M/MV5BMjg2NmM0MTEtYWY2Yy00NmFlLTllNTMtMjVkZjEwMGVlNzdjXkEyXkFqcGc@._V1_QL75_UX380_CR0,0,380,562_.jpg\" width=\"100\"/></td><td>STRANGER THINGS</td></tr><tr><td><img src=\"https://m.media-amazon.com/images/M/MV5BZWUwNjExYTYtZmM3ZS00NzA1LWJhNjYtMWExNGEwZTVjNDM3XkEyXkFqcGc@._V1_QL75_UY562_CR8,0,380,562_.jpg\" width=\"100\"/></td><td>PYTHON</td></tr></tbody>\n",
       "</table>"
      ],
      "text/plain": [
       "<IPython.core.display.HTML object>"
      ]
     },
     "execution_count": 5,
     "metadata": {},
     "output_type": "execute_result"
    }
   ],
   "source": [
    "df.render(\n",
    "    templates=dict(\n",
    "        image_url='<img src=\"{{ content }}\" width=\"100\"/>',\n",
    "        title=\"{{ content|upper }}\",\n",
    "    ),\n",
    "    filter_columns=True,\n",
    ")"
   ]
  },
  {
   "cell_type": "markdown",
   "id": "1b98944e",
   "metadata": {},
   "source": [
    "### Dynamic Placeholder\n",
    "You can also use dynamic placeholders in the templates. It means that you can use each name of a column as a placeholder in the template. This allows you to create templates that are more flexible and can be reused for different columns. For example, you can use `{{ content }}` to access the content of the cell, and `{{ title }}` to access the title of the movie or TV series.\n",
    "And if you have a column with lists of values, you can use either the filter `join` or a loop to render the content dynamically."
   ]
  },
  {
   "cell_type": "code",
   "execution_count": 6,
   "id": "88bb245e",
   "metadata": {
    "execution": {
     "iopub.execute_input": "2025-04-06T22:55:17.138313Z",
     "iopub.status.busy": "2025-04-06T22:55:17.138228Z",
     "iopub.status.idle": "2025-04-06T22:55:17.143881Z",
     "shell.execute_reply": "2025-04-06T22:55:17.143603Z"
    }
   },
   "outputs": [
    {
     "data": {
      "text/html": [
       "<table class=\"dataframe\" border=\"1\"><thead>\n",
       "        <tr><th>image_url</th><th>title</th><th>actors</th></tr>\n",
       "    </thead><tbody><tr><td><img src=\"https://m.media-amazon.com/images/M/MV5BZDI5YzJhODQtMzQyNy00YWNmLWIxMjUtNDBjNjA5YWRjMzExXkEyXkFqcGc@._V1_QL75_UX380_CR0,4,380,562_.jpg\" width=\"100\"/></td><td>\n",
       "<p><a href=\"https://www.imdb.com/title/tt11280740\" target=\"_blank\">SEVERANCE</a></p>\n",
       "<p><smaller>Year: 2022</smaller></p>\n",
       "<p><smaller>Rating: <strong>8.7</strong></smaller></p></td><td>\n",
       "\n",
       "<ol>\n",
       "    \n",
       "        <li>Adam Scott</li>\n",
       "    \n",
       "        <li>Britt Lower</li>\n",
       "    \n",
       "        <li>Zach Cherry</li>\n",
       "    \n",
       "</ol>\n",
       "</td></tr><tr><td><img src=\"https://m.media-amazon.com/images/M/MV5BMjg2NmM0MTEtYWY2Yy00NmFlLTllNTMtMjVkZjEwMGVlNzdjXkEyXkFqcGc@._V1_QL75_UX380_CR0,0,380,562_.jpg\" width=\"100\"/></td><td>\n",
       "<p><a href=\"https://www.imdb.com/title/tt4574334\" target=\"_blank\">STRANGER THINGS</a></p>\n",
       "<p><smaller>Year: 2016</smaller></p>\n",
       "<p><smaller>Rating: <strong>8.6</strong></smaller></p></td><td>\n",
       "\n",
       "<ol>\n",
       "    \n",
       "        <li>Millie Bobby Brown</li>\n",
       "    \n",
       "        <li>Finn Wolfhard</li>\n",
       "    \n",
       "</ol>\n",
       "</td></tr><tr><td><img src=\"https://m.media-amazon.com/images/M/MV5BZWUwNjExYTYtZmM3ZS00NzA1LWJhNjYtMWExNGEwZTVjNDM3XkEyXkFqcGc@._V1_QL75_UY562_CR8,0,380,562_.jpg\" width=\"100\"/></td><td>\n",
       "<p><a href=\"https://www.imdb.com/title/tt0209264\" target=\"_blank\">PYTHON</a></p>\n",
       "<p><smaller>Year: 2000</smaller></p>\n",
       "<p><smaller>Rating: <strong>3.7</strong></smaller></p></td><td>\n",
       "\n",
       "<ol>\n",
       "    \n",
       "        <li>Frayne Rosanoff</li>\n",
       "    \n",
       "</ol>\n",
       "</td></tr></tbody>\n",
       "</table>"
      ],
      "text/plain": [
       "<IPython.core.display.HTML object>"
      ]
     },
     "execution_count": 6,
     "metadata": {},
     "output_type": "execute_result"
    }
   ],
   "source": [
    "title_template = \"\"\"\n",
    "<p><a href=\"https://www.imdb.com/title/{{ id }}\" target=\"_blank\">{{ content|upper }}</a></p>\n",
    "<p><smaller>Year: {{ year }}</smaller></p>\n",
    "<p><smaller>Rating: <strong>{{ rating }}</strong></smaller></p>\n",
    "\"\"\"\n",
    "\n",
    "actors_template = \"\"\"\n",
    "{% if content %}\n",
    "<ol>\n",
    "    {% for actor in content %}\n",
    "        <li>{{ actor }}</li>\n",
    "    {% endfor %}\n",
    "</ol>\n",
    "{% else %}\n",
    "    <p>No actors</p>\n",
    "{% endif %}\n",
    "\"\"\"\n",
    "\n",
    "df.render(\n",
    "    templates=dict(\n",
    "        image_url='<img src=\"{{ content }}\" width=\"100\"/>',\n",
    "        title=title_template,\n",
    "        actors=actors_template,\n",
    "    ),\n",
    "    filter_columns=True,\n",
    ")"
   ]
  }
 ],
 "metadata": {
  "jupytext": {
   "cell_metadata_filter": "-all",
   "main_language": "python",
   "notebook_metadata_filter": "-all"
  },
  "language_info": {
   "codemirror_mode": {
    "name": "ipython",
    "version": 3
   },
   "file_extension": ".py",
   "mimetype": "text/x-python",
   "name": "python",
   "nbconvert_exporter": "python",
   "pygments_lexer": "ipython3",
   "version": "3.9.6"
  }
 },
 "nbformat": 4,
 "nbformat_minor": 5
}
